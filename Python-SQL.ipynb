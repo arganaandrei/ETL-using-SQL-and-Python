{
 "cells": [
  {
   "cell_type": "markdown",
   "id": "59c27b31",
   "metadata": {},
   "source": [
    "# PYTHON-SQL PROJECT MODIFYING DATABASE AND TABLES"
   ]
  },
  {
   "cell_type": "code",
   "execution_count": 42,
   "id": "57b2d7cb",
   "metadata": {},
   "outputs": [
    {
     "name": "stdout",
     "output_type": "stream",
     "text": [
      "Requirement already satisfied: pyodbc in c:\\users\\ilaga\\anaconda3\\lib\\site-packages (4.0.32)\n"
     ]
    },
    {
     "name": "stderr",
     "output_type": "stream",
     "text": [
      "ERROR: Could not find a version that satisfies the requirement sqlite3 (from versions: none)\n",
      "ERROR: No matching distribution found for sqlite3\n"
     ]
    },
    {
     "name": "stdout",
     "output_type": "stream",
     "text": [
      "Requirement already satisfied: sqlalchemy in c:\\users\\ilaga\\anaconda3\\lib\\site-packages (1.4.32)\n",
      "Requirement already satisfied: greenlet!=0.4.17 in c:\\users\\ilaga\\anaconda3\\lib\\site-packages (from sqlalchemy) (1.1.1)\n"
     ]
    }
   ],
   "source": [
    "!pip install pyodbc\n",
    "!pip install sqlite3\n",
    "!pip install sqlalchemy"
   ]
  },
  {
   "cell_type": "code",
   "execution_count": 26,
   "id": "a18d0d99",
   "metadata": {},
   "outputs": [],
   "source": [
    "import sqlite3\n",
    "import pyodbc\n",
    "import pandas as pd\n",
    "import numpy as np\n",
    "from sqlalchemy import create_engine"
   ]
  },
  {
   "cell_type": "code",
   "execution_count": 27,
   "id": "08c6f2e5",
   "metadata": {},
   "outputs": [
    {
     "data": {
      "text/plain": [
       "10000"
      ]
     },
     "execution_count": 27,
     "metadata": {},
     "output_type": "execute_result"
    }
   ],
   "source": [
    "pd.set_option('display.width', 140)\n",
    "pd.set_option('display.max_rows', 10000)\n",
    "pd.set_option('display.max_columns', 20)\n",
    "pd.set_option('display.max_colwidth', 100)\n",
    "pd.options.display.width\n",
    "pd.options.display.max_rows"
   ]
  },
  {
   "cell_type": "code",
   "execution_count": 28,
   "id": "1399df84",
   "metadata": {},
   "outputs": [],
   "source": [
    "dbconn = sqlite3.connect(r'D:\\Downloads\\source.db')"
   ]
  },
  {
   "cell_type": "code",
   "execution_count": 29,
   "id": "dea0f9c6",
   "metadata": {},
   "outputs": [
    {
     "data": {
      "text/html": [
       "<div>\n",
       "<style scoped>\n",
       "    .dataframe tbody tr th:only-of-type {\n",
       "        vertical-align: middle;\n",
       "    }\n",
       "\n",
       "    .dataframe tbody tr th {\n",
       "        vertical-align: top;\n",
       "    }\n",
       "\n",
       "    .dataframe thead th {\n",
       "        text-align: right;\n",
       "    }\n",
       "</style>\n",
       "<table border=\"1\" class=\"dataframe\">\n",
       "  <thead>\n",
       "    <tr style=\"text-align: right;\">\n",
       "      <th></th>\n",
       "      <th>ShipperID</th>\n",
       "      <th>CompanyName</th>\n",
       "      <th>Phone</th>\n",
       "    </tr>\n",
       "  </thead>\n",
       "  <tbody>\n",
       "    <tr>\n",
       "      <th>0</th>\n",
       "      <td>ERLJ-101</td>\n",
       "      <td>Speedy International</td>\n",
       "      <td>(503) 555-9831</td>\n",
       "    </tr>\n",
       "    <tr>\n",
       "      <th>1</th>\n",
       "      <td>ERLJ-102</td>\n",
       "      <td>United Package</td>\n",
       "      <td>(503) 555-8712</td>\n",
       "    </tr>\n",
       "    <tr>\n",
       "      <th>2</th>\n",
       "      <td>ERLJ-103</td>\n",
       "      <td>Federal Shipping</td>\n",
       "      <td>(503) 555-9931</td>\n",
       "    </tr>\n",
       "    <tr>\n",
       "      <th>3</th>\n",
       "      <td>ERLJ-104</td>\n",
       "      <td>Lazaro Bulk Corporation</td>\n",
       "      <td>(503) 555-2399</td>\n",
       "    </tr>\n",
       "    <tr>\n",
       "      <th>4</th>\n",
       "      <td>ERLJ-105</td>\n",
       "      <td>Pacia Estates</td>\n",
       "      <td>(503) 555-5564</td>\n",
       "    </tr>\n",
       "    <tr>\n",
       "      <th>5</th>\n",
       "      <td>ERLJ-106</td>\n",
       "      <td>We Like to Move it</td>\n",
       "      <td>(503) 555-1234</td>\n",
       "    </tr>\n",
       "    <tr>\n",
       "      <th>6</th>\n",
       "      <td>ERLJ-107</td>\n",
       "      <td>Transpo Updates</td>\n",
       "      <td>(503) 555-6520</td>\n",
       "    </tr>\n",
       "    <tr>\n",
       "      <th>7</th>\n",
       "      <td>ERLJ-108</td>\n",
       "      <td>Log Logistics</td>\n",
       "      <td>(503) 555-2374</td>\n",
       "    </tr>\n",
       "    <tr>\n",
       "      <th>8</th>\n",
       "      <td>ERLJ-109</td>\n",
       "      <td>Fast and the Slow</td>\n",
       "      <td>(503) 555-7712</td>\n",
       "    </tr>\n",
       "    <tr>\n",
       "      <th>9</th>\n",
       "      <td>ERLJ-110</td>\n",
       "      <td>Tangera Express</td>\n",
       "      <td>(503) 555-3344</td>\n",
       "    </tr>\n",
       "    <tr>\n",
       "      <th>10</th>\n",
       "      <td>ERLJ-111</td>\n",
       "      <td></td>\n",
       "      <td>(503) 555-2334</td>\n",
       "    </tr>\n",
       "    <tr>\n",
       "      <th>11</th>\n",
       "      <td>ERLJ-112</td>\n",
       "      <td>IDLF Lofistics</td>\n",
       "      <td></td>\n",
       "    </tr>\n",
       "    <tr>\n",
       "      <th>12</th>\n",
       "      <td>ERLJ-113</td>\n",
       "      <td>United Package</td>\n",
       "      <td>(503) 555-8712</td>\n",
       "    </tr>\n",
       "  </tbody>\n",
       "</table>\n",
       "</div>"
      ],
      "text/plain": [
       "   ShipperID              CompanyName           Phone\n",
       "0   ERLJ-101     Speedy International  (503) 555-9831\n",
       "1   ERLJ-102           United Package  (503) 555-8712\n",
       "2   ERLJ-103         Federal Shipping  (503) 555-9931\n",
       "3   ERLJ-104  Lazaro Bulk Corporation  (503) 555-2399\n",
       "4   ERLJ-105            Pacia Estates  (503) 555-5564\n",
       "5   ERLJ-106       We Like to Move it  (503) 555-1234\n",
       "6   ERLJ-107          Transpo Updates  (503) 555-6520\n",
       "7   ERLJ-108            Log Logistics  (503) 555-2374\n",
       "8   ERLJ-109        Fast and the Slow  (503) 555-7712\n",
       "9   ERLJ-110          Tangera Express  (503) 555-3344\n",
       "10  ERLJ-111                           (503) 555-2334\n",
       "11  ERLJ-112           IDLF Lofistics                \n",
       "12  ERLJ-113           United Package  (503) 555-8712"
      ]
     },
     "execution_count": 29,
     "metadata": {},
     "output_type": "execute_result"
    }
   ],
   "source": [
    "shippers_extract = pd.read_sql_query(\"Select * from Shippers;\", dbconn)\n",
    "shippers_extract"
   ]
  },
  {
   "cell_type": "code",
   "execution_count": 30,
   "id": "173c8d31",
   "metadata": {},
   "outputs": [],
   "source": [
    "dbconn.close()"
   ]
  },
  {
   "cell_type": "code",
   "execution_count": 31,
   "id": "7f92a76f",
   "metadata": {},
   "outputs": [],
   "source": [
    "dwconn = sqlite3.connect(r'D:\\Downloads\\datawarehouse_1.db')"
   ]
  },
  {
   "cell_type": "code",
   "execution_count": 32,
   "id": "1a88cd5a",
   "metadata": {},
   "outputs": [],
   "source": [
    "c = dwconn.cursor()"
   ]
  },
  {
   "cell_type": "code",
   "execution_count": 33,
   "id": "c099a72f",
   "metadata": {},
   "outputs": [],
   "source": [
    "delete_sshippers = c.execute('Delete from S_Shippers')"
   ]
  },
  {
   "cell_type": "code",
   "execution_count": 34,
   "id": "05acebf5",
   "metadata": {},
   "outputs": [
    {
     "data": {
      "text/html": [
       "<div>\n",
       "<style scoped>\n",
       "    .dataframe tbody tr th:only-of-type {\n",
       "        vertical-align: middle;\n",
       "    }\n",
       "\n",
       "    .dataframe tbody tr th {\n",
       "        vertical-align: top;\n",
       "    }\n",
       "\n",
       "    .dataframe thead th {\n",
       "        text-align: right;\n",
       "    }\n",
       "</style>\n",
       "<table border=\"1\" class=\"dataframe\">\n",
       "  <thead>\n",
       "    <tr style=\"text-align: right;\">\n",
       "      <th></th>\n",
       "      <th>ShipperID</th>\n",
       "      <th>CompanyName</th>\n",
       "      <th>Phone</th>\n",
       "    </tr>\n",
       "  </thead>\n",
       "  <tbody>\n",
       "  </tbody>\n",
       "</table>\n",
       "</div>"
      ],
      "text/plain": [
       "Empty DataFrame\n",
       "Columns: [ShipperID, CompanyName, Phone]\n",
       "Index: []"
      ]
     },
     "execution_count": 34,
     "metadata": {},
     "output_type": "execute_result"
    }
   ],
   "source": [
    "a = pd.read_sql_query(\"Select * from S_Shippers;\", dwconn)\n",
    "a"
   ]
  },
  {
   "cell_type": "code",
   "execution_count": 35,
   "id": "37153aeb",
   "metadata": {},
   "outputs": [
    {
     "data": {
      "text/plain": [
       "<sqlite3.Cursor at 0x29dc8e9b1f0>"
      ]
     },
     "execution_count": 35,
     "metadata": {},
     "output_type": "execute_result"
    }
   ],
   "source": [
    "c.execute('''Insert into S_Shippers(ShipperID, CompanyName, Phone) Values ('ERLJ-101','Speedy International','(503) 555-9831')''')\n",
    "c.execute('''Insert into S_Shippers(ShipperID, CompanyName, Phone) Values ('ERLJ-102','United Package','(503) 555-8712')''')\n",
    "c.execute('''Insert into S_Shippers(ShipperID, CompanyName, Phone) Values ('ERLJ-103','Federal Shipping','(503) 555-9931')''')\n",
    "c.execute('''Insert into S_Shippers(ShipperID, CompanyName, Phone) Values ('ERLJ-104','Lazaro Bulk Corporation','(503) 555-2399')''')\n",
    "c.execute('''Insert into S_Shippers(ShipperID, CompanyName, Phone) Values ('ERLJ-105','Pacia Estates','(503) 555-5564')''')\n",
    "c.execute('''Insert into S_Shippers(ShipperID, CompanyName, Phone) Values ('ERLJ-106','We Like to Move it','(503) 555-1234')''')\n",
    "c.execute('''Insert into S_Shippers(ShipperID, CompanyName, Phone) Values ('ERLJ-107','Transpo Updates','(503) 555-6520')''')\n",
    "c.execute('''Insert into S_Shippers(ShipperID, CompanyName, Phone) Values ('ERLJ-108','Log Logistics','(503) 555-2374')''')\n",
    "c.execute('''Insert into S_Shippers(ShipperID, CompanyName, Phone) Values ('ERLJ-109','Fast and the Slow','(503) 555-7712')''')\n",
    "c.execute('''Insert into S_Shippers(ShipperID, CompanyName, Phone) Values ('ERLJ-110','Tangera Express','(503) 555-3344')''')\n",
    "c.execute('''Insert into S_Shippers(ShipperID, CompanyName, Phone) Values ('ERLJ-111', NULL ,'(503) 555-2334')''')\n",
    "c.execute('''Insert into S_Shippers(ShipperID, CompanyName, Phone) Values ('ERLJ-112','IDLF Lofistics', NULL)''')\n",
    "c.execute('''Insert into S_Shippers(ShipperID, CompanyName, Phone) Values ('ERLJ-113','United Package','(503) 555-8712')''')"
   ]
  },
  {
   "cell_type": "code",
   "execution_count": 36,
   "id": "82cdb565",
   "metadata": {},
   "outputs": [],
   "source": [
    "c.fetchall()\n",
    "dwconn.commit()"
   ]
  },
  {
   "cell_type": "code",
   "execution_count": 37,
   "id": "06203735",
   "metadata": {},
   "outputs": [
    {
     "data": {
      "text/html": [
       "<div>\n",
       "<style scoped>\n",
       "    .dataframe tbody tr th:only-of-type {\n",
       "        vertical-align: middle;\n",
       "    }\n",
       "\n",
       "    .dataframe tbody tr th {\n",
       "        vertical-align: top;\n",
       "    }\n",
       "\n",
       "    .dataframe thead th {\n",
       "        text-align: right;\n",
       "    }\n",
       "</style>\n",
       "<table border=\"1\" class=\"dataframe\">\n",
       "  <thead>\n",
       "    <tr style=\"text-align: right;\">\n",
       "      <th></th>\n",
       "      <th>ShipperID</th>\n",
       "      <th>CompanyName</th>\n",
       "      <th>Phone</th>\n",
       "    </tr>\n",
       "  </thead>\n",
       "  <tbody>\n",
       "    <tr>\n",
       "      <th>0</th>\n",
       "      <td>ERLJ-101</td>\n",
       "      <td>Speedy International</td>\n",
       "      <td>(503) 555-9831</td>\n",
       "    </tr>\n",
       "    <tr>\n",
       "      <th>1</th>\n",
       "      <td>ERLJ-102</td>\n",
       "      <td>United Package</td>\n",
       "      <td>(503) 555-8712</td>\n",
       "    </tr>\n",
       "    <tr>\n",
       "      <th>2</th>\n",
       "      <td>ERLJ-103</td>\n",
       "      <td>Federal Shipping</td>\n",
       "      <td>(503) 555-9931</td>\n",
       "    </tr>\n",
       "    <tr>\n",
       "      <th>3</th>\n",
       "      <td>ERLJ-104</td>\n",
       "      <td>Lazaro Bulk Corporation</td>\n",
       "      <td>(503) 555-2399</td>\n",
       "    </tr>\n",
       "    <tr>\n",
       "      <th>4</th>\n",
       "      <td>ERLJ-105</td>\n",
       "      <td>Pacia Estates</td>\n",
       "      <td>(503) 555-5564</td>\n",
       "    </tr>\n",
       "    <tr>\n",
       "      <th>5</th>\n",
       "      <td>ERLJ-106</td>\n",
       "      <td>We Like to Move it</td>\n",
       "      <td>(503) 555-1234</td>\n",
       "    </tr>\n",
       "    <tr>\n",
       "      <th>6</th>\n",
       "      <td>ERLJ-107</td>\n",
       "      <td>Transpo Updates</td>\n",
       "      <td>(503) 555-6520</td>\n",
       "    </tr>\n",
       "    <tr>\n",
       "      <th>7</th>\n",
       "      <td>ERLJ-108</td>\n",
       "      <td>Log Logistics</td>\n",
       "      <td>(503) 555-2374</td>\n",
       "    </tr>\n",
       "    <tr>\n",
       "      <th>8</th>\n",
       "      <td>ERLJ-109</td>\n",
       "      <td>Fast and the Slow</td>\n",
       "      <td>(503) 555-7712</td>\n",
       "    </tr>\n",
       "    <tr>\n",
       "      <th>9</th>\n",
       "      <td>ERLJ-110</td>\n",
       "      <td>Tangera Express</td>\n",
       "      <td>(503) 555-3344</td>\n",
       "    </tr>\n",
       "    <tr>\n",
       "      <th>10</th>\n",
       "      <td>ERLJ-111</td>\n",
       "      <td>None</td>\n",
       "      <td>(503) 555-2334</td>\n",
       "    </tr>\n",
       "    <tr>\n",
       "      <th>11</th>\n",
       "      <td>ERLJ-112</td>\n",
       "      <td>IDLF Lofistics</td>\n",
       "      <td>None</td>\n",
       "    </tr>\n",
       "    <tr>\n",
       "      <th>12</th>\n",
       "      <td>ERLJ-113</td>\n",
       "      <td>United Package</td>\n",
       "      <td>(503) 555-8712</td>\n",
       "    </tr>\n",
       "  </tbody>\n",
       "</table>\n",
       "</div>"
      ],
      "text/plain": [
       "   ShipperID              CompanyName           Phone\n",
       "0   ERLJ-101     Speedy International  (503) 555-9831\n",
       "1   ERLJ-102           United Package  (503) 555-8712\n",
       "2   ERLJ-103         Federal Shipping  (503) 555-9931\n",
       "3   ERLJ-104  Lazaro Bulk Corporation  (503) 555-2399\n",
       "4   ERLJ-105            Pacia Estates  (503) 555-5564\n",
       "5   ERLJ-106       We Like to Move it  (503) 555-1234\n",
       "6   ERLJ-107          Transpo Updates  (503) 555-6520\n",
       "7   ERLJ-108            Log Logistics  (503) 555-2374\n",
       "8   ERLJ-109        Fast and the Slow  (503) 555-7712\n",
       "9   ERLJ-110          Tangera Express  (503) 555-3344\n",
       "10  ERLJ-111                     None  (503) 555-2334\n",
       "11  ERLJ-112           IDLF Lofistics            None\n",
       "12  ERLJ-113           United Package  (503) 555-8712"
      ]
     },
     "execution_count": 37,
     "metadata": {},
     "output_type": "execute_result"
    }
   ],
   "source": [
    "s = pd.read_sql(\"Select * from S_Shippers;\", dwconn)\n",
    "s"
   ]
  },
  {
   "cell_type": "code",
   "execution_count": 38,
   "id": "24458077",
   "metadata": {},
   "outputs": [
    {
     "data": {
      "text/html": [
       "<div>\n",
       "<style scoped>\n",
       "    .dataframe tbody tr th:only-of-type {\n",
       "        vertical-align: middle;\n",
       "    }\n",
       "\n",
       "    .dataframe tbody tr th {\n",
       "        vertical-align: top;\n",
       "    }\n",
       "\n",
       "    .dataframe thead th {\n",
       "        text-align: right;\n",
       "    }\n",
       "</style>\n",
       "<table border=\"1\" class=\"dataframe\">\n",
       "  <thead>\n",
       "    <tr style=\"text-align: right;\">\n",
       "      <th></th>\n",
       "      <th>ShipperID</th>\n",
       "      <th>CompanyName</th>\n",
       "      <th>Phone</th>\n",
       "    </tr>\n",
       "  </thead>\n",
       "  <tbody>\n",
       "    <tr>\n",
       "      <th>0</th>\n",
       "      <td>ERLJ-101</td>\n",
       "      <td>Speedy Express</td>\n",
       "      <td>(503) 555-9831</td>\n",
       "    </tr>\n",
       "    <tr>\n",
       "      <th>1</th>\n",
       "      <td>ERLJ-102</td>\n",
       "      <td>United Package</td>\n",
       "      <td>(503) 555-8712</td>\n",
       "    </tr>\n",
       "    <tr>\n",
       "      <th>2</th>\n",
       "      <td>ERLJ-103</td>\n",
       "      <td>Federal Shipping</td>\n",
       "      <td>(503) 555-9931</td>\n",
       "    </tr>\n",
       "    <tr>\n",
       "      <th>3</th>\n",
       "      <td>ERLJ-104</td>\n",
       "      <td>Lazaro Bulk Corporation</td>\n",
       "      <td>(503) 555-2388</td>\n",
       "    </tr>\n",
       "    <tr>\n",
       "      <th>4</th>\n",
       "      <td>ERLJ-105</td>\n",
       "      <td>Pacia Estates</td>\n",
       "      <td>(503) 555-5564</td>\n",
       "    </tr>\n",
       "    <tr>\n",
       "      <th>5</th>\n",
       "      <td>ERLJ-106</td>\n",
       "      <td>We Like to Move it</td>\n",
       "      <td>(503) 555-1234</td>\n",
       "    </tr>\n",
       "    <tr>\n",
       "      <th>6</th>\n",
       "      <td>ERLJ-107</td>\n",
       "      <td>Transpo Updates</td>\n",
       "      <td>(503) 555-6520</td>\n",
       "    </tr>\n",
       "  </tbody>\n",
       "</table>\n",
       "</div>"
      ],
      "text/plain": [
       "  ShipperID              CompanyName           Phone\n",
       "0  ERLJ-101           Speedy Express  (503) 555-9831\n",
       "1  ERLJ-102           United Package  (503) 555-8712\n",
       "2  ERLJ-103         Federal Shipping  (503) 555-9931\n",
       "3  ERLJ-104  Lazaro Bulk Corporation  (503) 555-2388\n",
       "4  ERLJ-105            Pacia Estates  (503) 555-5564\n",
       "5  ERLJ-106       We Like to Move it  (503) 555-1234\n",
       "6  ERLJ-107          Transpo Updates  (503) 555-6520"
      ]
     },
     "execution_count": 38,
     "metadata": {},
     "output_type": "execute_result"
    }
   ],
   "source": [
    "m = pd.read_sql(\"Select * from M_Shippers;\", dwconn)\n",
    "m"
   ]
  },
  {
   "cell_type": "code",
   "execution_count": 39,
   "id": "4eba0244",
   "metadata": {},
   "outputs": [
    {
     "data": {
      "text/html": [
       "<div>\n",
       "<style scoped>\n",
       "    .dataframe tbody tr th:only-of-type {\n",
       "        vertical-align: middle;\n",
       "    }\n",
       "\n",
       "    .dataframe tbody tr th {\n",
       "        vertical-align: top;\n",
       "    }\n",
       "\n",
       "    .dataframe thead th {\n",
       "        text-align: right;\n",
       "    }\n",
       "</style>\n",
       "<table border=\"1\" class=\"dataframe\">\n",
       "  <thead>\n",
       "    <tr style=\"text-align: right;\">\n",
       "      <th></th>\n",
       "      <th>ShipperID</th>\n",
       "      <th>CompanyName</th>\n",
       "      <th>Phone</th>\n",
       "    </tr>\n",
       "  </thead>\n",
       "  <tbody>\n",
       "    <tr>\n",
       "      <th>0</th>\n",
       "      <td>ERLJ-108</td>\n",
       "      <td>Log Logistics</td>\n",
       "      <td>(503) 555-2374</td>\n",
       "    </tr>\n",
       "    <tr>\n",
       "      <th>1</th>\n",
       "      <td>ERLJ-109</td>\n",
       "      <td>Fast and the Slow</td>\n",
       "      <td>(503) 555-7712</td>\n",
       "    </tr>\n",
       "    <tr>\n",
       "      <th>2</th>\n",
       "      <td>ERLJ-110</td>\n",
       "      <td>Tangera Express</td>\n",
       "      <td>(503) 555-3344</td>\n",
       "    </tr>\n",
       "    <tr>\n",
       "      <th>3</th>\n",
       "      <td>ERLJ-111</td>\n",
       "      <td>None</td>\n",
       "      <td>(503) 555-2334</td>\n",
       "    </tr>\n",
       "    <tr>\n",
       "      <th>4</th>\n",
       "      <td>ERLJ-112</td>\n",
       "      <td>IDLF Lofistics</td>\n",
       "      <td>None</td>\n",
       "    </tr>\n",
       "    <tr>\n",
       "      <th>5</th>\n",
       "      <td>ERLJ-113</td>\n",
       "      <td>United Package</td>\n",
       "      <td>(503) 555-8712</td>\n",
       "    </tr>\n",
       "  </tbody>\n",
       "</table>\n",
       "</div>"
      ],
      "text/plain": [
       "  ShipperID        CompanyName           Phone\n",
       "0  ERLJ-108      Log Logistics  (503) 555-2374\n",
       "1  ERLJ-109  Fast and the Slow  (503) 555-7712\n",
       "2  ERLJ-110    Tangera Express  (503) 555-3344\n",
       "3  ERLJ-111               None  (503) 555-2334\n",
       "4  ERLJ-112     IDLF Lofistics            None\n",
       "5  ERLJ-113     United Package  (503) 555-8712"
      ]
     },
     "execution_count": 39,
     "metadata": {},
     "output_type": "execute_result"
    }
   ],
   "source": [
    "s_table_new_data_df = pd.read_sql('''Select * from S_Shippers where ShipperID NOT IN (Select ShipperID from M_Shippers)''', dwconn)\n",
    "s_table_new_data_df"
   ]
  },
  {
   "cell_type": "code",
   "execution_count": 40,
   "id": "524e8fb9",
   "metadata": {},
   "outputs": [
    {
     "data": {
      "text/html": [
       "<div>\n",
       "<style scoped>\n",
       "    .dataframe tbody tr th:only-of-type {\n",
       "        vertical-align: middle;\n",
       "    }\n",
       "\n",
       "    .dataframe tbody tr th {\n",
       "        vertical-align: top;\n",
       "    }\n",
       "\n",
       "    .dataframe thead th {\n",
       "        text-align: right;\n",
       "    }\n",
       "</style>\n",
       "<table border=\"1\" class=\"dataframe\">\n",
       "  <thead>\n",
       "    <tr style=\"text-align: right;\">\n",
       "      <th></th>\n",
       "      <th>ShipperID</th>\n",
       "      <th>CompanyName</th>\n",
       "      <th>Phone</th>\n",
       "    </tr>\n",
       "  </thead>\n",
       "  <tbody>\n",
       "    <tr>\n",
       "      <th>0</th>\n",
       "      <td>ERLJ-101</td>\n",
       "      <td>Speedy International</td>\n",
       "      <td>(503) 555-9831</td>\n",
       "    </tr>\n",
       "  </tbody>\n",
       "</table>\n",
       "</div>"
      ],
      "text/plain": [
       "  ShipperID           CompanyName           Phone\n",
       "0  ERLJ-101  Speedy International  (503) 555-9831"
      ]
     },
     "execution_count": 40,
     "metadata": {},
     "output_type": "execute_result"
    }
   ],
   "source": [
    "s_table_changed_company_name_df = pd.read_sql('''Select s.ShipperID, s.CompanyName, s.Phone from S_Shippers s inner join \n",
    "M_Shippers m on s.ShipperID = m.ShipperID where not s.CompanyName = m.CompanyName''', dwconn)\n",
    "s_table_changed_company_name_df"
   ]
  },
  {
   "cell_type": "code",
   "execution_count": 41,
   "id": "ac82d6a1",
   "metadata": {},
   "outputs": [
    {
     "data": {
      "text/html": [
       "<div>\n",
       "<style scoped>\n",
       "    .dataframe tbody tr th:only-of-type {\n",
       "        vertical-align: middle;\n",
       "    }\n",
       "\n",
       "    .dataframe tbody tr th {\n",
       "        vertical-align: top;\n",
       "    }\n",
       "\n",
       "    .dataframe thead th {\n",
       "        text-align: right;\n",
       "    }\n",
       "</style>\n",
       "<table border=\"1\" class=\"dataframe\">\n",
       "  <thead>\n",
       "    <tr style=\"text-align: right;\">\n",
       "      <th></th>\n",
       "      <th>ShipperID</th>\n",
       "      <th>CompanyName</th>\n",
       "      <th>Phone</th>\n",
       "    </tr>\n",
       "  </thead>\n",
       "  <tbody>\n",
       "    <tr>\n",
       "      <th>0</th>\n",
       "      <td>ERLJ-104</td>\n",
       "      <td>Lazaro Bulk Corporation</td>\n",
       "      <td>(503) 555-2399</td>\n",
       "    </tr>\n",
       "  </tbody>\n",
       "</table>\n",
       "</div>"
      ],
      "text/plain": [
       "  ShipperID              CompanyName           Phone\n",
       "0  ERLJ-104  Lazaro Bulk Corporation  (503) 555-2399"
      ]
     },
     "execution_count": 41,
     "metadata": {},
     "output_type": "execute_result"
    }
   ],
   "source": [
    "s_table_changed_phone_number_df = pd.read_sql('''Select s.ShipperID, s.CompanyName, s.Phone from S_Shippers s\n",
    "inner join M_Shippers m on s.ShipperID = m.ShipperID where not s.Phone = m.Phone''', dwconn)\n",
    "s_table_changed_phone_number_df"
   ]
  },
  {
   "cell_type": "code",
   "execution_count": 42,
   "id": "83501f7f",
   "metadata": {},
   "outputs": [
    {
     "name": "stderr",
     "output_type": "stream",
     "text": [
      "C:\\Users\\ilaga\\AppData\\Local\\Temp\\ipykernel_2196\\430490919.py:1: FutureWarning: The frame.append method is deprecated and will be removed from pandas in a future version. Use pandas.concat instead.\n",
      "  s_table_changed_data_df = s_table_changed_company_name_df.append(s_table_changed_phone_number_df, ignore_index = True)\n"
     ]
    },
    {
     "data": {
      "text/html": [
       "<div>\n",
       "<style scoped>\n",
       "    .dataframe tbody tr th:only-of-type {\n",
       "        vertical-align: middle;\n",
       "    }\n",
       "\n",
       "    .dataframe tbody tr th {\n",
       "        vertical-align: top;\n",
       "    }\n",
       "\n",
       "    .dataframe thead th {\n",
       "        text-align: right;\n",
       "    }\n",
       "</style>\n",
       "<table border=\"1\" class=\"dataframe\">\n",
       "  <thead>\n",
       "    <tr style=\"text-align: right;\">\n",
       "      <th></th>\n",
       "      <th>ShipperID</th>\n",
       "      <th>CompanyName</th>\n",
       "      <th>Phone</th>\n",
       "    </tr>\n",
       "  </thead>\n",
       "  <tbody>\n",
       "    <tr>\n",
       "      <th>0</th>\n",
       "      <td>ERLJ-101</td>\n",
       "      <td>Speedy International</td>\n",
       "      <td>(503) 555-9831</td>\n",
       "    </tr>\n",
       "    <tr>\n",
       "      <th>1</th>\n",
       "      <td>ERLJ-104</td>\n",
       "      <td>Lazaro Bulk Corporation</td>\n",
       "      <td>(503) 555-2399</td>\n",
       "    </tr>\n",
       "  </tbody>\n",
       "</table>\n",
       "</div>"
      ],
      "text/plain": [
       "  ShipperID              CompanyName           Phone\n",
       "0  ERLJ-101     Speedy International  (503) 555-9831\n",
       "1  ERLJ-104  Lazaro Bulk Corporation  (503) 555-2399"
      ]
     },
     "execution_count": 42,
     "metadata": {},
     "output_type": "execute_result"
    }
   ],
   "source": [
    "s_table_changed_data_df = s_table_changed_company_name_df.append(s_table_changed_phone_number_df, ignore_index = True)\n",
    "s_table_changed_data_df"
   ]
  },
  {
   "cell_type": "code",
   "execution_count": 43,
   "id": "75a803f7",
   "metadata": {},
   "outputs": [
    {
     "name": "stderr",
     "output_type": "stream",
     "text": [
      "C:\\Users\\ilaga\\AppData\\Local\\Temp\\ipykernel_2196\\1022900357.py:1: FutureWarning: The frame.append method is deprecated and will be removed from pandas in a future version. Use pandas.concat instead.\n",
      "  s_table_extract_df = s_table_new_data_df.append(s_table_changed_data_df, ignore_index = True)\n"
     ]
    },
    {
     "data": {
      "text/html": [
       "<div>\n",
       "<style scoped>\n",
       "    .dataframe tbody tr th:only-of-type {\n",
       "        vertical-align: middle;\n",
       "    }\n",
       "\n",
       "    .dataframe tbody tr th {\n",
       "        vertical-align: top;\n",
       "    }\n",
       "\n",
       "    .dataframe thead th {\n",
       "        text-align: right;\n",
       "    }\n",
       "</style>\n",
       "<table border=\"1\" class=\"dataframe\">\n",
       "  <thead>\n",
       "    <tr style=\"text-align: right;\">\n",
       "      <th></th>\n",
       "      <th>ShipperID</th>\n",
       "      <th>CompanyName</th>\n",
       "      <th>Phone</th>\n",
       "    </tr>\n",
       "  </thead>\n",
       "  <tbody>\n",
       "    <tr>\n",
       "      <th>0</th>\n",
       "      <td>ERLJ-108</td>\n",
       "      <td>Log Logistics</td>\n",
       "      <td>(503) 555-2374</td>\n",
       "    </tr>\n",
       "    <tr>\n",
       "      <th>1</th>\n",
       "      <td>ERLJ-109</td>\n",
       "      <td>Fast and the Slow</td>\n",
       "      <td>(503) 555-7712</td>\n",
       "    </tr>\n",
       "    <tr>\n",
       "      <th>2</th>\n",
       "      <td>ERLJ-110</td>\n",
       "      <td>Tangera Express</td>\n",
       "      <td>(503) 555-3344</td>\n",
       "    </tr>\n",
       "    <tr>\n",
       "      <th>3</th>\n",
       "      <td>ERLJ-111</td>\n",
       "      <td>None</td>\n",
       "      <td>(503) 555-2334</td>\n",
       "    </tr>\n",
       "    <tr>\n",
       "      <th>4</th>\n",
       "      <td>ERLJ-112</td>\n",
       "      <td>IDLF Lofistics</td>\n",
       "      <td>None</td>\n",
       "    </tr>\n",
       "    <tr>\n",
       "      <th>5</th>\n",
       "      <td>ERLJ-113</td>\n",
       "      <td>United Package</td>\n",
       "      <td>(503) 555-8712</td>\n",
       "    </tr>\n",
       "    <tr>\n",
       "      <th>6</th>\n",
       "      <td>ERLJ-101</td>\n",
       "      <td>Speedy International</td>\n",
       "      <td>(503) 555-9831</td>\n",
       "    </tr>\n",
       "    <tr>\n",
       "      <th>7</th>\n",
       "      <td>ERLJ-104</td>\n",
       "      <td>Lazaro Bulk Corporation</td>\n",
       "      <td>(503) 555-2399</td>\n",
       "    </tr>\n",
       "  </tbody>\n",
       "</table>\n",
       "</div>"
      ],
      "text/plain": [
       "  ShipperID              CompanyName           Phone\n",
       "0  ERLJ-108            Log Logistics  (503) 555-2374\n",
       "1  ERLJ-109        Fast and the Slow  (503) 555-7712\n",
       "2  ERLJ-110          Tangera Express  (503) 555-3344\n",
       "3  ERLJ-111                     None  (503) 555-2334\n",
       "4  ERLJ-112           IDLF Lofistics            None\n",
       "5  ERLJ-113           United Package  (503) 555-8712\n",
       "6  ERLJ-101     Speedy International  (503) 555-9831\n",
       "7  ERLJ-104  Lazaro Bulk Corporation  (503) 555-2399"
      ]
     },
     "execution_count": 43,
     "metadata": {},
     "output_type": "execute_result"
    }
   ],
   "source": [
    "s_table_extract_df = s_table_new_data_df.append(s_table_changed_data_df, ignore_index = True)\n",
    "s_table_extract_df"
   ]
  },
  {
   "cell_type": "code",
   "execution_count": 44,
   "id": "26da13b8",
   "metadata": {},
   "outputs": [
    {
     "data": {
      "text/html": [
       "<div>\n",
       "<style scoped>\n",
       "    .dataframe tbody tr th:only-of-type {\n",
       "        vertical-align: middle;\n",
       "    }\n",
       "\n",
       "    .dataframe tbody tr th {\n",
       "        vertical-align: top;\n",
       "    }\n",
       "\n",
       "    .dataframe thead th {\n",
       "        text-align: right;\n",
       "    }\n",
       "</style>\n",
       "<table border=\"1\" class=\"dataframe\">\n",
       "  <thead>\n",
       "    <tr style=\"text-align: right;\">\n",
       "      <th></th>\n",
       "      <th>ShipperID</th>\n",
       "      <th>CompanyName</th>\n",
       "      <th>Phone</th>\n",
       "    </tr>\n",
       "  </thead>\n",
       "  <tbody>\n",
       "  </tbody>\n",
       "</table>\n",
       "</div>"
      ],
      "text/plain": [
       "Empty DataFrame\n",
       "Columns: [ShipperID, CompanyName, Phone]\n",
       "Index: []"
      ]
     },
     "execution_count": 44,
     "metadata": {},
     "output_type": "execute_result"
    }
   ],
   "source": [
    "x = pd.read_sql(\"Select * from X_Shippers;\", dwconn)\n",
    "x"
   ]
  },
  {
   "cell_type": "code",
   "execution_count": 45,
   "id": "3ce82dd8",
   "metadata": {},
   "outputs": [],
   "source": [
    "delete_xshippers = c.execute('Delete from X_Shippers')"
   ]
  },
  {
   "cell_type": "code",
   "execution_count": 46,
   "id": "883b4ab0",
   "metadata": {},
   "outputs": [],
   "source": [
    "dwconn.commit()"
   ]
  },
  {
   "cell_type": "code",
   "execution_count": 47,
   "id": "2fed9845",
   "metadata": {},
   "outputs": [
    {
     "data": {
      "text/html": [
       "<div>\n",
       "<style scoped>\n",
       "    .dataframe tbody tr th:only-of-type {\n",
       "        vertical-align: middle;\n",
       "    }\n",
       "\n",
       "    .dataframe tbody tr th {\n",
       "        vertical-align: top;\n",
       "    }\n",
       "\n",
       "    .dataframe thead th {\n",
       "        text-align: right;\n",
       "    }\n",
       "</style>\n",
       "<table border=\"1\" class=\"dataframe\">\n",
       "  <thead>\n",
       "    <tr style=\"text-align: right;\">\n",
       "      <th></th>\n",
       "      <th>ShipperID</th>\n",
       "      <th>CompanyName</th>\n",
       "      <th>Phone</th>\n",
       "    </tr>\n",
       "  </thead>\n",
       "  <tbody>\n",
       "  </tbody>\n",
       "</table>\n",
       "</div>"
      ],
      "text/plain": [
       "Empty DataFrame\n",
       "Columns: [ShipperID, CompanyName, Phone]\n",
       "Index: []"
      ]
     },
     "execution_count": 47,
     "metadata": {},
     "output_type": "execute_result"
    }
   ],
   "source": [
    "x = pd.read_sql(\"Select * from X_Shippers;\", dwconn)\n",
    "x"
   ]
  },
  {
   "cell_type": "code",
   "execution_count": 48,
   "id": "69f54998",
   "metadata": {},
   "outputs": [
    {
     "data": {
      "text/plain": [
       "<sqlite3.Cursor at 0x29dc8e9b1f0>"
      ]
     },
     "execution_count": 48,
     "metadata": {},
     "output_type": "execute_result"
    }
   ],
   "source": [
    "c.execute('Select * from X_Shippers')"
   ]
  },
  {
   "cell_type": "code",
   "execution_count": 49,
   "id": "6ec0d7f9",
   "metadata": {},
   "outputs": [
    {
     "data": {
      "text/plain": [
       "[]"
      ]
     },
     "execution_count": 49,
     "metadata": {},
     "output_type": "execute_result"
    }
   ],
   "source": [
    "c.fetchall()"
   ]
  },
  {
   "cell_type": "code",
   "execution_count": 50,
   "id": "84de2374",
   "metadata": {},
   "outputs": [
    {
     "data": {
      "text/plain": [
       "[('ERLJ-108', 'Log Logistics', '(503) 555-2374'),\n",
       " ('ERLJ-109', 'Fast and the Slow', '(503) 555-7712'),\n",
       " ('ERLJ-110', 'Tangera Express', '(503) 555-3344'),\n",
       " ('ERLJ-111', 'None', '(503) 555-2334'),\n",
       " ('ERLJ-112', 'IDLF Lofistics', 'None'),\n",
       " ('ERLJ-113', 'United Package', '(503) 555-8712'),\n",
       " ('ERLJ-101', 'Speedy International', '(503) 555-9831'),\n",
       " ('ERLJ-104', 'Lazaro Bulk Corporation', '(503) 555-2399')]"
      ]
     },
     "execution_count": 50,
     "metadata": {},
     "output_type": "execute_result"
    }
   ],
   "source": [
    "cols = \"','\".join([str(i) for i in s_table_extract_df.columns.tolist()])\n",
    "value = None\n",
    "\n",
    "for i, row in s_table_extract_df.iterrows():\n",
    "    sql = \"Insert into X_Shippers ('\"+cols +\"') values (\" + \"'%s',\"*(len(row)-1) + \"'%s\" + \"')\"\n",
    "    a_string = sql %tuple(row) if value is None else value\n",
    "    c.execute(a_string)\n",
    "    dwconn.commit()\n",
    "c.execute('''Select * from X_Shippers''')\n",
    "c.fetchall()"
   ]
  },
  {
   "cell_type": "code",
   "execution_count": 51,
   "id": "1f17889c",
   "metadata": {},
   "outputs": [
    {
     "data": {
      "text/html": [
       "<div>\n",
       "<style scoped>\n",
       "    .dataframe tbody tr th:only-of-type {\n",
       "        vertical-align: middle;\n",
       "    }\n",
       "\n",
       "    .dataframe tbody tr th {\n",
       "        vertical-align: top;\n",
       "    }\n",
       "\n",
       "    .dataframe thead th {\n",
       "        text-align: right;\n",
       "    }\n",
       "</style>\n",
       "<table border=\"1\" class=\"dataframe\">\n",
       "  <thead>\n",
       "    <tr style=\"text-align: right;\">\n",
       "      <th></th>\n",
       "      <th>ShipperID</th>\n",
       "      <th>CompanyName</th>\n",
       "      <th>Phone</th>\n",
       "    </tr>\n",
       "  </thead>\n",
       "  <tbody>\n",
       "    <tr>\n",
       "      <th>0</th>\n",
       "      <td>ERLJ-111</td>\n",
       "      <td>None</td>\n",
       "      <td>(503) 555-2334</td>\n",
       "    </tr>\n",
       "  </tbody>\n",
       "</table>\n",
       "</div>"
      ],
      "text/plain": [
       "  ShipperID CompanyName           Phone\n",
       "0  ERLJ-111        None  (503) 555-2334"
      ]
     },
     "execution_count": 51,
     "metadata": {},
     "output_type": "execute_result"
    }
   ],
   "source": [
    "x_table_no_companyname_df = pd.read_sql('''Select * from X_Shippers where CompanyName ='None' ''',dwconn)\n",
    "x_table_no_companyname_df"
   ]
  },
  {
   "cell_type": "code",
   "execution_count": 52,
   "id": "6bb5a4ef",
   "metadata": {},
   "outputs": [],
   "source": [
    "x_table_no_companyname_df['ErrorType'] = 'No Company Name'"
   ]
  },
  {
   "cell_type": "code",
   "execution_count": 53,
   "id": "2ec61062",
   "metadata": {},
   "outputs": [
    {
     "data": {
      "text/html": [
       "<div>\n",
       "<style scoped>\n",
       "    .dataframe tbody tr th:only-of-type {\n",
       "        vertical-align: middle;\n",
       "    }\n",
       "\n",
       "    .dataframe tbody tr th {\n",
       "        vertical-align: top;\n",
       "    }\n",
       "\n",
       "    .dataframe thead th {\n",
       "        text-align: right;\n",
       "    }\n",
       "</style>\n",
       "<table border=\"1\" class=\"dataframe\">\n",
       "  <thead>\n",
       "    <tr style=\"text-align: right;\">\n",
       "      <th></th>\n",
       "      <th>ShipperID</th>\n",
       "      <th>CompanyName</th>\n",
       "      <th>Phone</th>\n",
       "      <th>ErrorType</th>\n",
       "    </tr>\n",
       "  </thead>\n",
       "  <tbody>\n",
       "    <tr>\n",
       "      <th>0</th>\n",
       "      <td>ERLJ-111</td>\n",
       "      <td>None</td>\n",
       "      <td>(503) 555-2334</td>\n",
       "      <td>No Company Name</td>\n",
       "    </tr>\n",
       "  </tbody>\n",
       "</table>\n",
       "</div>"
      ],
      "text/plain": [
       "  ShipperID CompanyName           Phone        ErrorType\n",
       "0  ERLJ-111        None  (503) 555-2334  No Company Name"
      ]
     },
     "execution_count": 53,
     "metadata": {},
     "output_type": "execute_result"
    }
   ],
   "source": [
    "x_table_no_companyname_df"
   ]
  },
  {
   "cell_type": "code",
   "execution_count": 54,
   "id": "95a78b96",
   "metadata": {},
   "outputs": [
    {
     "data": {
      "text/html": [
       "<div>\n",
       "<style scoped>\n",
       "    .dataframe tbody tr th:only-of-type {\n",
       "        vertical-align: middle;\n",
       "    }\n",
       "\n",
       "    .dataframe tbody tr th {\n",
       "        vertical-align: top;\n",
       "    }\n",
       "\n",
       "    .dataframe thead th {\n",
       "        text-align: right;\n",
       "    }\n",
       "</style>\n",
       "<table border=\"1\" class=\"dataframe\">\n",
       "  <thead>\n",
       "    <tr style=\"text-align: right;\">\n",
       "      <th></th>\n",
       "      <th>ShipperID</th>\n",
       "      <th>CompanyName</th>\n",
       "      <th>Phone</th>\n",
       "    </tr>\n",
       "  </thead>\n",
       "  <tbody>\n",
       "    <tr>\n",
       "      <th>0</th>\n",
       "      <td>ERLJ-113</td>\n",
       "      <td>United Package</td>\n",
       "      <td>(503) 555-8712</td>\n",
       "    </tr>\n",
       "  </tbody>\n",
       "</table>\n",
       "</div>"
      ],
      "text/plain": [
       "  ShipperID     CompanyName           Phone\n",
       "0  ERLJ-113  United Package  (503) 555-8712"
      ]
     },
     "execution_count": 54,
     "metadata": {},
     "output_type": "execute_result"
    }
   ],
   "source": [
    "x_table_duplicate_companies_df = pd.read_sql('''Select * from X_Shippers where CompanyName in \n",
    "(Select CompanyName from S_Shippers group by CompanyName having count (CompanyName) > 1)''', dwconn)\n",
    "x_table_duplicate_companies_df"
   ]
  },
  {
   "cell_type": "code",
   "execution_count": 55,
   "id": "450ef84d",
   "metadata": {},
   "outputs": [
    {
     "data": {
      "text/html": [
       "<div>\n",
       "<style scoped>\n",
       "    .dataframe tbody tr th:only-of-type {\n",
       "        vertical-align: middle;\n",
       "    }\n",
       "\n",
       "    .dataframe tbody tr th {\n",
       "        vertical-align: top;\n",
       "    }\n",
       "\n",
       "    .dataframe thead th {\n",
       "        text-align: right;\n",
       "    }\n",
       "</style>\n",
       "<table border=\"1\" class=\"dataframe\">\n",
       "  <thead>\n",
       "    <tr style=\"text-align: right;\">\n",
       "      <th></th>\n",
       "      <th>ShipperID</th>\n",
       "      <th>CompanyName</th>\n",
       "      <th>Phone</th>\n",
       "      <th>ErrorType</th>\n",
       "    </tr>\n",
       "  </thead>\n",
       "  <tbody>\n",
       "    <tr>\n",
       "      <th>0</th>\n",
       "      <td>ERLJ-113</td>\n",
       "      <td>United Package</td>\n",
       "      <td>(503) 555-8712</td>\n",
       "      <td>Duplicate Company Name</td>\n",
       "    </tr>\n",
       "  </tbody>\n",
       "</table>\n",
       "</div>"
      ],
      "text/plain": [
       "  ShipperID     CompanyName           Phone               ErrorType\n",
       "0  ERLJ-113  United Package  (503) 555-8712  Duplicate Company Name"
      ]
     },
     "execution_count": 55,
     "metadata": {},
     "output_type": "execute_result"
    }
   ],
   "source": [
    "x_table_duplicate_companies_df['ErrorType'] = 'Duplicate Company Name'\n",
    "x_table_duplicate_companies_df"
   ]
  },
  {
   "cell_type": "code",
   "execution_count": 56,
   "id": "d79603e4",
   "metadata": {},
   "outputs": [
    {
     "data": {
      "text/html": [
       "<div>\n",
       "<style scoped>\n",
       "    .dataframe tbody tr th:only-of-type {\n",
       "        vertical-align: middle;\n",
       "    }\n",
       "\n",
       "    .dataframe tbody tr th {\n",
       "        vertical-align: top;\n",
       "    }\n",
       "\n",
       "    .dataframe thead th {\n",
       "        text-align: right;\n",
       "    }\n",
       "</style>\n",
       "<table border=\"1\" class=\"dataframe\">\n",
       "  <thead>\n",
       "    <tr style=\"text-align: right;\">\n",
       "      <th></th>\n",
       "      <th>ShipperID</th>\n",
       "      <th>CompanyName</th>\n",
       "      <th>Phone</th>\n",
       "      <th>ErrorType</th>\n",
       "    </tr>\n",
       "  </thead>\n",
       "  <tbody>\n",
       "    <tr>\n",
       "      <th>0</th>\n",
       "      <td>ERLJ-111</td>\n",
       "      <td>None</td>\n",
       "      <td>(503) 555-2334</td>\n",
       "      <td>No Company Name</td>\n",
       "    </tr>\n",
       "    <tr>\n",
       "      <th>0</th>\n",
       "      <td>ERLJ-113</td>\n",
       "      <td>United Package</td>\n",
       "      <td>(503) 555-8712</td>\n",
       "      <td>Duplicate Company Name</td>\n",
       "    </tr>\n",
       "  </tbody>\n",
       "</table>\n",
       "</div>"
      ],
      "text/plain": [
       "  ShipperID     CompanyName           Phone               ErrorType\n",
       "0  ERLJ-111            None  (503) 555-2334         No Company Name\n",
       "0  ERLJ-113  United Package  (503) 555-8712  Duplicate Company Name"
      ]
     },
     "execution_count": 56,
     "metadata": {},
     "output_type": "execute_result"
    }
   ],
   "source": [
    "x_table_errors_df = pd.concat([x_table_no_companyname_df, x_table_duplicate_companies_df])\n",
    "x_table_errors_df"
   ]
  },
  {
   "cell_type": "code",
   "execution_count": 57,
   "id": "663c1462",
   "metadata": {},
   "outputs": [],
   "source": [
    "update_xshippers = c.execute('''Update X_Shippers set Phone = 'Unknown Phone Number' where Phone = 'None' ''')"
   ]
  },
  {
   "cell_type": "code",
   "execution_count": 58,
   "id": "4979a394",
   "metadata": {},
   "outputs": [
    {
     "data": {
      "text/plain": [
       "[('ERLJ-108', 'Log Logistics', '(503) 555-2374'),\n",
       " ('ERLJ-109', 'Fast and the Slow', '(503) 555-7712'),\n",
       " ('ERLJ-110', 'Tangera Express', '(503) 555-3344'),\n",
       " ('ERLJ-111', 'None', '(503) 555-2334'),\n",
       " ('ERLJ-112', 'IDLF Lofistics', 'Unknown Phone Number'),\n",
       " ('ERLJ-113', 'United Package', '(503) 555-8712'),\n",
       " ('ERLJ-101', 'Speedy International', '(503) 555-9831'),\n",
       " ('ERLJ-104', 'Lazaro Bulk Corporation', '(503) 555-2399')]"
      ]
     },
     "execution_count": 58,
     "metadata": {},
     "output_type": "execute_result"
    }
   ],
   "source": [
    "c.execute('Select * from X_Shippers')\n",
    "c.fetchall()"
   ]
  },
  {
   "cell_type": "code",
   "execution_count": 59,
   "id": "7bd574ec",
   "metadata": {},
   "outputs": [
    {
     "data": {
      "text/plain": [
       "[]"
      ]
     },
     "execution_count": 59,
     "metadata": {},
     "output_type": "execute_result"
    }
   ],
   "source": [
    "delete_eshippers = c.execute('Delete from E_Shippers')\n",
    "c.execute('Select * from E_Shippers')\n",
    "c.fetchall()"
   ]
  },
  {
   "cell_type": "code",
   "execution_count": 60,
   "id": "1197b7a0",
   "metadata": {},
   "outputs": [
    {
     "data": {
      "text/plain": [
       "[('ERLJ-111', 'None', '(503) 555-2334', 'No Company Name'),\n",
       " ('ERLJ-113', 'United Package', '(503) 555-8712', 'Duplicate Company Name')]"
      ]
     },
     "execution_count": 60,
     "metadata": {},
     "output_type": "execute_result"
    }
   ],
   "source": [
    "cols = \"','\".join([str(i) for i in x_table_errors_df.columns.tolist()])\n",
    "\n",
    "for i, row in x_table_errors_df.iterrows():\n",
    "    sql = \"Insert into E_Shippers ('\" +cols + \"') values (\" + \"'%s',\"*(len(row)-1) + \"'%s\" + \"')\"\n",
    "    a_string = sql %tuple(row) if value is None else value\n",
    "    c.execute(a_string)\n",
    "    dwconn.commit()\n",
    "c.execute('''Select * from E_Shippers''')\n",
    "c.fetchall()"
   ]
  },
  {
   "cell_type": "code",
   "execution_count": 61,
   "id": "76d5e9ff",
   "metadata": {},
   "outputs": [
    {
     "data": {
      "text/html": [
       "<div>\n",
       "<style scoped>\n",
       "    .dataframe tbody tr th:only-of-type {\n",
       "        vertical-align: middle;\n",
       "    }\n",
       "\n",
       "    .dataframe tbody tr th {\n",
       "        vertical-align: top;\n",
       "    }\n",
       "\n",
       "    .dataframe thead th {\n",
       "        text-align: right;\n",
       "    }\n",
       "</style>\n",
       "<table border=\"1\" class=\"dataframe\">\n",
       "  <thead>\n",
       "    <tr style=\"text-align: right;\">\n",
       "      <th></th>\n",
       "      <th>ShipperID</th>\n",
       "      <th>CompanyName</th>\n",
       "      <th>Phone</th>\n",
       "    </tr>\n",
       "  </thead>\n",
       "  <tbody>\n",
       "    <tr>\n",
       "      <th>0</th>\n",
       "      <td>ERLJ-108</td>\n",
       "      <td>Log Logistics</td>\n",
       "      <td>(503) 555-2374</td>\n",
       "    </tr>\n",
       "    <tr>\n",
       "      <th>1</th>\n",
       "      <td>ERLJ-109</td>\n",
       "      <td>Fast and the Slow</td>\n",
       "      <td>(503) 555-7712</td>\n",
       "    </tr>\n",
       "    <tr>\n",
       "      <th>2</th>\n",
       "      <td>ERLJ-110</td>\n",
       "      <td>Tangera Express</td>\n",
       "      <td>(503) 555-3344</td>\n",
       "    </tr>\n",
       "    <tr>\n",
       "      <th>3</th>\n",
       "      <td>ERLJ-112</td>\n",
       "      <td>IDLF Lofistics</td>\n",
       "      <td>Unknown Phone Number</td>\n",
       "    </tr>\n",
       "    <tr>\n",
       "      <th>4</th>\n",
       "      <td>ERLJ-101</td>\n",
       "      <td>Speedy International</td>\n",
       "      <td>(503) 555-9831</td>\n",
       "    </tr>\n",
       "    <tr>\n",
       "      <th>5</th>\n",
       "      <td>ERLJ-104</td>\n",
       "      <td>Lazaro Bulk Corporation</td>\n",
       "      <td>(503) 555-2399</td>\n",
       "    </tr>\n",
       "  </tbody>\n",
       "</table>\n",
       "</div>"
      ],
      "text/plain": [
       "  ShipperID              CompanyName                 Phone\n",
       "0  ERLJ-108            Log Logistics        (503) 555-2374\n",
       "1  ERLJ-109        Fast and the Slow        (503) 555-7712\n",
       "2  ERLJ-110          Tangera Express        (503) 555-3344\n",
       "3  ERLJ-112           IDLF Lofistics  Unknown Phone Number\n",
       "4  ERLJ-101     Speedy International        (503) 555-9831\n",
       "5  ERLJ-104  Lazaro Bulk Corporation        (503) 555-2399"
      ]
     },
     "execution_count": 61,
     "metadata": {},
     "output_type": "execute_result"
    }
   ],
   "source": [
    "x_table_clean_data_df = pd.read_sql('''Select * from X_Shippers where ShipperID not in (Select ShipperID from E_Shippers)''', dwconn)\n",
    "x_table_clean_data_df"
   ]
  },
  {
   "cell_type": "code",
   "execution_count": 62,
   "id": "ba91b4c5",
   "metadata": {},
   "outputs": [
    {
     "data": {
      "text/plain": [
       "[]"
      ]
     },
     "execution_count": 62,
     "metadata": {},
     "output_type": "execute_result"
    }
   ],
   "source": [
    "delete_cshippers = c.execute('Delete from C_Shippers')\n",
    "c.execute('Select * from C_Shippers')\n",
    "c.fetchall()"
   ]
  },
  {
   "cell_type": "code",
   "execution_count": 63,
   "id": "40179a2a",
   "metadata": {},
   "outputs": [
    {
     "data": {
      "text/plain": [
       "[('ERLJ-108', 'Log Logistics', '(503) 555-2374'),\n",
       " ('ERLJ-109', 'Fast and the Slow', '(503) 555-7712'),\n",
       " ('ERLJ-110', 'Tangera Express', '(503) 555-3344'),\n",
       " ('ERLJ-112', 'IDLF Lofistics', 'Unknown Phone Number'),\n",
       " ('ERLJ-101', 'Speedy International', '(503) 555-9831'),\n",
       " ('ERLJ-104', 'Lazaro Bulk Corporation', '(503) 555-2399')]"
      ]
     },
     "execution_count": 63,
     "metadata": {},
     "output_type": "execute_result"
    }
   ],
   "source": [
    "cols = \"','\".join([str(i) for i in x_table_clean_data_df.columns.tolist()])\n",
    "\n",
    "for i, row in x_table_clean_data_df.iterrows():\n",
    "    sql = \"Insert into C_Shippers ('\"+cols +\"') values (\" + \"'%s',\"*(len(row)-1) + \"'%s\" + \"')\"\n",
    "    a_string = sql %tuple(row) if value is None else value\n",
    "    c.execute(a_string)\n",
    "    dwconn.commit()\n",
    "c.execute('''Select * from C_Shippers''')\n",
    "c.fetchall()"
   ]
  },
  {
   "cell_type": "code",
   "execution_count": 64,
   "id": "d388bdbd",
   "metadata": {},
   "outputs": [
    {
     "data": {
      "text/html": [
       "<div>\n",
       "<style scoped>\n",
       "    .dataframe tbody tr th:only-of-type {\n",
       "        vertical-align: middle;\n",
       "    }\n",
       "\n",
       "    .dataframe tbody tr th {\n",
       "        vertical-align: top;\n",
       "    }\n",
       "\n",
       "    .dataframe thead th {\n",
       "        text-align: right;\n",
       "    }\n",
       "</style>\n",
       "<table border=\"1\" class=\"dataframe\">\n",
       "  <thead>\n",
       "    <tr style=\"text-align: right;\">\n",
       "      <th></th>\n",
       "      <th>ShipperID</th>\n",
       "      <th>CompanyName</th>\n",
       "      <th>Phone</th>\n",
       "    </tr>\n",
       "  </thead>\n",
       "  <tbody>\n",
       "    <tr>\n",
       "      <th>0</th>\n",
       "      <td>ERLJ-108</td>\n",
       "      <td>Log Logistics</td>\n",
       "      <td>(503) 555-2374</td>\n",
       "    </tr>\n",
       "    <tr>\n",
       "      <th>1</th>\n",
       "      <td>ERLJ-109</td>\n",
       "      <td>Fast and the Slow</td>\n",
       "      <td>(503) 555-7712</td>\n",
       "    </tr>\n",
       "    <tr>\n",
       "      <th>2</th>\n",
       "      <td>ERLJ-110</td>\n",
       "      <td>Tangera Express</td>\n",
       "      <td>(503) 555-3344</td>\n",
       "    </tr>\n",
       "    <tr>\n",
       "      <th>3</th>\n",
       "      <td>ERLJ-112</td>\n",
       "      <td>IDLF Lofistics</td>\n",
       "      <td>Unknown Phone Number</td>\n",
       "    </tr>\n",
       "  </tbody>\n",
       "</table>\n",
       "</div>"
      ],
      "text/plain": [
       "  ShipperID        CompanyName                 Phone\n",
       "0  ERLJ-108      Log Logistics        (503) 555-2374\n",
       "1  ERLJ-109  Fast and the Slow        (503) 555-7712\n",
       "2  ERLJ-110    Tangera Express        (503) 555-3344\n",
       "3  ERLJ-112     IDLF Lofistics  Unknown Phone Number"
      ]
     },
     "execution_count": 64,
     "metadata": {},
     "output_type": "execute_result"
    }
   ],
   "source": [
    "c_table_new_date_df = pd.read_sql('''Select * from C_Shippers c where c.ShipperID not in (Select m.ShipperID from M_Shippers m)''', dwconn)\n",
    "c_table_new_date_df"
   ]
  },
  {
   "cell_type": "code",
   "execution_count": 65,
   "id": "f423cf25",
   "metadata": {},
   "outputs": [
    {
     "data": {
      "text/plain": [
       "[('ERLJ-101', 'Speedy Express', '(503) 555-9831'),\n",
       " ('ERLJ-102', 'United Package', '(503) 555-8712'),\n",
       " ('ERLJ-103', 'Federal Shipping', '(503) 555-9931'),\n",
       " ('ERLJ-104', 'Lazaro Bulk Corporation', '(503) 555-2388'),\n",
       " ('ERLJ-105', 'Pacia Estates', '(503) 555-5564'),\n",
       " ('ERLJ-106', 'We Like to Move it', '(503) 555-1234'),\n",
       " ('ERLJ-107', 'Transpo Updates', '(503) 555-6520'),\n",
       " ('ERLJ-108', 'Log Logistics', '(503) 555-2374'),\n",
       " ('ERLJ-109', 'Fast and the Slow', '(503) 555-7712'),\n",
       " ('ERLJ-110', 'Tangera Express', '(503) 555-3344'),\n",
       " ('ERLJ-112', 'IDLF Lofistics', 'Unknown Phone Number')]"
      ]
     },
     "execution_count": 65,
     "metadata": {},
     "output_type": "execute_result"
    }
   ],
   "source": [
    "cols = \"','\".join([str(i) for i in c_table_new_date_df.columns.tolist()])\n",
    "\n",
    "for i, row in c_table_new_date_df.iterrows():\n",
    "    sql = \"Insert into M_Shippers_Test ('\"+cols +\"') values (\" + \"'%s',\"*(len(row)-1) + \"'%s\" + \"')\"\n",
    "    a_string = sql %tuple(row) if value is None else value\n",
    "    c.execute(a_string)\n",
    "    dwconn.commit()\n",
    "c.execute('''Select * from M_Shippers_Test''')\n",
    "c.fetchall()"
   ]
  },
  {
   "cell_type": "code",
   "execution_count": 66,
   "id": "34b8a4ae",
   "metadata": {},
   "outputs": [
    {
     "data": {
      "text/html": [
       "<div>\n",
       "<style scoped>\n",
       "    .dataframe tbody tr th:only-of-type {\n",
       "        vertical-align: middle;\n",
       "    }\n",
       "\n",
       "    .dataframe tbody tr th {\n",
       "        vertical-align: top;\n",
       "    }\n",
       "\n",
       "    .dataframe thead th {\n",
       "        text-align: right;\n",
       "    }\n",
       "</style>\n",
       "<table border=\"1\" class=\"dataframe\">\n",
       "  <thead>\n",
       "    <tr style=\"text-align: right;\">\n",
       "      <th></th>\n",
       "      <th>ShipperID</th>\n",
       "      <th>CompanyName</th>\n",
       "      <th>Phone</th>\n",
       "    </tr>\n",
       "  </thead>\n",
       "  <tbody>\n",
       "    <tr>\n",
       "      <th>0</th>\n",
       "      <td>ERLJ-101</td>\n",
       "      <td>Speedy International</td>\n",
       "      <td>(503) 555-9831</td>\n",
       "    </tr>\n",
       "    <tr>\n",
       "      <th>1</th>\n",
       "      <td>ERLJ-104</td>\n",
       "      <td>Lazaro Bulk Corporation</td>\n",
       "      <td>(503) 555-2399</td>\n",
       "    </tr>\n",
       "  </tbody>\n",
       "</table>\n",
       "</div>"
      ],
      "text/plain": [
       "  ShipperID              CompanyName           Phone\n",
       "0  ERLJ-101     Speedy International  (503) 555-9831\n",
       "1  ERLJ-104  Lazaro Bulk Corporation  (503) 555-2399"
      ]
     },
     "execution_count": 66,
     "metadata": {},
     "output_type": "execute_result"
    }
   ],
   "source": [
    "c_table_changed_data_df = pd.read_sql('''Select c.* from C_Shippers c, M_Shippers m where c.ShipperID = m.ShipperID and (c.CompanyName <> m.CompanyName or c.Phone <> m.Phone)''', dwconn)\n",
    "c_table_changed_data_df"
   ]
  },
  {
   "cell_type": "code",
   "execution_count": 67,
   "id": "0719d9a6",
   "metadata": {},
   "outputs": [],
   "source": [
    "delete_mshipperstest = c.execute('''Delete from M_Shippers_Test where ShipperID in (Select m.ShipperID from C_Shippers c,\n",
    "M_Shippers m where c.ShipperID = m.ShipperID and (c.CompanyName <> m.CompanyName or c.Phone <> m.Phone))''')"
   ]
  },
  {
   "cell_type": "code",
   "execution_count": 68,
   "id": "bfe7132f",
   "metadata": {},
   "outputs": [],
   "source": [
    "c.execute('Select * from M_Shippers_Test')\n",
    "c.fetchall()\n",
    "dwconn.commit()"
   ]
  },
  {
   "cell_type": "code",
   "execution_count": 69,
   "id": "a296a550",
   "metadata": {},
   "outputs": [
    {
     "data": {
      "text/plain": [
       "[('ERLJ-102', 'United Package', '(503) 555-8712'),\n",
       " ('ERLJ-103', 'Federal Shipping', '(503) 555-9931'),\n",
       " ('ERLJ-105', 'Pacia Estates', '(503) 555-5564'),\n",
       " ('ERLJ-106', 'We Like to Move it', '(503) 555-1234'),\n",
       " ('ERLJ-107', 'Transpo Updates', '(503) 555-6520'),\n",
       " ('ERLJ-108', 'Log Logistics', '(503) 555-2374'),\n",
       " ('ERLJ-109', 'Fast and the Slow', '(503) 555-7712'),\n",
       " ('ERLJ-110', 'Tangera Express', '(503) 555-3344'),\n",
       " ('ERLJ-112', 'IDLF Lofistics', 'Unknown Phone Number'),\n",
       " ('ERLJ-101', 'Speedy International', '(503) 555-9831'),\n",
       " ('ERLJ-104', 'Lazaro Bulk Corporation', '(503) 555-2399')]"
      ]
     },
     "execution_count": 69,
     "metadata": {},
     "output_type": "execute_result"
    }
   ],
   "source": [
    "cols = \"','\".join([str(i) for i in c_table_changed_data_df.columns.tolist()])\n",
    "\n",
    "for i, row in c_table_changed_data_df.iterrows():\n",
    "    sql = \"Insert into M_Shippers_Test ('\"+cols +\"') values (\" + \"'%s',\"*(len(row)-1) + \"'%s\" + \"')\"\n",
    "    a_string = sql %tuple(row) if value is None else value\n",
    "    c.execute(a_string)\n",
    "    dwconn.commit()\n",
    "c.execute('''Select * from M_Shippers_Test''')\n",
    "c.fetchall()"
   ]
  },
  {
   "cell_type": "code",
   "execution_count": 71,
   "id": "3addb411",
   "metadata": {},
   "outputs": [
    {
     "data": {
      "text/html": [
       "<div>\n",
       "<style scoped>\n",
       "    .dataframe tbody tr th:only-of-type {\n",
       "        vertical-align: middle;\n",
       "    }\n",
       "\n",
       "    .dataframe tbody tr th {\n",
       "        vertical-align: top;\n",
       "    }\n",
       "\n",
       "    .dataframe thead th {\n",
       "        text-align: right;\n",
       "    }\n",
       "</style>\n",
       "<table border=\"1\" class=\"dataframe\">\n",
       "  <thead>\n",
       "    <tr style=\"text-align: right;\">\n",
       "      <th></th>\n",
       "      <th>Shipper_ID</th>\n",
       "      <th>Shipper_Name</th>\n",
       "      <th>Current_Shipper_Phone</th>\n",
       "      <th>Effective_Date</th>\n",
       "    </tr>\n",
       "  </thead>\n",
       "  <tbody>\n",
       "    <tr>\n",
       "      <th>0</th>\n",
       "      <td>ERLJ-108</td>\n",
       "      <td>Log Logistics</td>\n",
       "      <td>(503) 555-2374</td>\n",
       "      <td>2022-11-04</td>\n",
       "    </tr>\n",
       "    <tr>\n",
       "      <th>1</th>\n",
       "      <td>ERLJ-109</td>\n",
       "      <td>Fast and the Slow</td>\n",
       "      <td>(503) 555-7712</td>\n",
       "      <td>2022-11-04</td>\n",
       "    </tr>\n",
       "    <tr>\n",
       "      <th>2</th>\n",
       "      <td>ERLJ-110</td>\n",
       "      <td>Tangera Express</td>\n",
       "      <td>(503) 555-3344</td>\n",
       "      <td>2022-11-04</td>\n",
       "    </tr>\n",
       "    <tr>\n",
       "      <th>3</th>\n",
       "      <td>ERLJ-112</td>\n",
       "      <td>IDLF Lofistics</td>\n",
       "      <td>Unknown Phone Number</td>\n",
       "      <td>2022-11-04</td>\n",
       "    </tr>\n",
       "    <tr>\n",
       "      <th>4</th>\n",
       "      <td>ERLJ-101</td>\n",
       "      <td>Speedy International</td>\n",
       "      <td>(503) 555-9831</td>\n",
       "      <td>2022-11-04</td>\n",
       "    </tr>\n",
       "    <tr>\n",
       "      <th>5</th>\n",
       "      <td>ERLJ-104</td>\n",
       "      <td>Lazaro Bulk Corporation</td>\n",
       "      <td>(503) 555-2399</td>\n",
       "      <td>2022-11-04</td>\n",
       "    </tr>\n",
       "  </tbody>\n",
       "</table>\n",
       "</div>"
      ],
      "text/plain": [
       "  Shipper_ID             Shipper_Name Current_Shipper_Phone Effective_Date\n",
       "0   ERLJ-108            Log Logistics        (503) 555-2374     2022-11-04\n",
       "1   ERLJ-109        Fast and the Slow        (503) 555-7712     2022-11-04\n",
       "2   ERLJ-110          Tangera Express        (503) 555-3344     2022-11-04\n",
       "3   ERLJ-112           IDLF Lofistics  Unknown Phone Number     2022-11-04\n",
       "4   ERLJ-101     Speedy International        (503) 555-9831     2022-11-04\n",
       "5   ERLJ-104  Lazaro Bulk Corporation        (503) 555-2399     2022-11-04"
      ]
     },
     "execution_count": 71,
     "metadata": {},
     "output_type": "execute_result"
    }
   ],
   "source": [
    "c_table_data_df = pd.read_sql('''Select ShipperID as [Shipper_ID], CompanyName as [Shipper_Name], Phone as [Current_Shipper_Phone], Date() as [Effective_Date] from C_Shippers''', dwconn)\n",
    "c_table_data_df"
   ]
  },
  {
   "cell_type": "code",
   "execution_count": 72,
   "id": "a2f81320",
   "metadata": {},
   "outputs": [
    {
     "data": {
      "text/html": [
       "<div>\n",
       "<style scoped>\n",
       "    .dataframe tbody tr th:only-of-type {\n",
       "        vertical-align: middle;\n",
       "    }\n",
       "\n",
       "    .dataframe tbody tr th {\n",
       "        vertical-align: top;\n",
       "    }\n",
       "\n",
       "    .dataframe thead th {\n",
       "        text-align: right;\n",
       "    }\n",
       "</style>\n",
       "<table border=\"1\" class=\"dataframe\">\n",
       "  <thead>\n",
       "    <tr style=\"text-align: right;\">\n",
       "      <th></th>\n",
       "      <th>Shipper_ID</th>\n",
       "      <th>Shipper_Name</th>\n",
       "      <th>Current_Shipper_Phone</th>\n",
       "      <th>Effective_Date</th>\n",
       "      <th>Previous_Shipper_Phone</th>\n",
       "    </tr>\n",
       "  </thead>\n",
       "  <tbody>\n",
       "    <tr>\n",
       "      <th>0</th>\n",
       "      <td>ERLJ-108</td>\n",
       "      <td>Log Logistics</td>\n",
       "      <td>(503) 555-2374</td>\n",
       "      <td>2022-11-04</td>\n",
       "      <td>Previous_Shipper_Phone</td>\n",
       "    </tr>\n",
       "    <tr>\n",
       "      <th>1</th>\n",
       "      <td>ERLJ-109</td>\n",
       "      <td>Fast and the Slow</td>\n",
       "      <td>(503) 555-7712</td>\n",
       "      <td>2022-11-04</td>\n",
       "      <td>Previous_Shipper_Phone</td>\n",
       "    </tr>\n",
       "    <tr>\n",
       "      <th>2</th>\n",
       "      <td>ERLJ-110</td>\n",
       "      <td>Tangera Express</td>\n",
       "      <td>(503) 555-3344</td>\n",
       "      <td>2022-11-04</td>\n",
       "      <td>Previous_Shipper_Phone</td>\n",
       "    </tr>\n",
       "    <tr>\n",
       "      <th>3</th>\n",
       "      <td>ERLJ-112</td>\n",
       "      <td>IDLF Lofistics</td>\n",
       "      <td>Unknown Phone Number</td>\n",
       "      <td>2022-11-04</td>\n",
       "      <td>Previous_Shipper_Phone</td>\n",
       "    </tr>\n",
       "    <tr>\n",
       "      <th>4</th>\n",
       "      <td>ERLJ-101</td>\n",
       "      <td>Speedy International</td>\n",
       "      <td>(503) 555-9831</td>\n",
       "      <td>2022-11-04</td>\n",
       "      <td>Previous_Shipper_Phone</td>\n",
       "    </tr>\n",
       "    <tr>\n",
       "      <th>5</th>\n",
       "      <td>ERLJ-104</td>\n",
       "      <td>Lazaro Bulk Corporation</td>\n",
       "      <td>(503) 555-2399</td>\n",
       "      <td>2022-11-04</td>\n",
       "      <td>Previous_Shipper_Phone</td>\n",
       "    </tr>\n",
       "  </tbody>\n",
       "</table>\n",
       "</div>"
      ],
      "text/plain": [
       "  Shipper_ID             Shipper_Name Current_Shipper_Phone Effective_Date  Previous_Shipper_Phone\n",
       "0   ERLJ-108            Log Logistics        (503) 555-2374     2022-11-04  Previous_Shipper_Phone\n",
       "1   ERLJ-109        Fast and the Slow        (503) 555-7712     2022-11-04  Previous_Shipper_Phone\n",
       "2   ERLJ-110          Tangera Express        (503) 555-3344     2022-11-04  Previous_Shipper_Phone\n",
       "3   ERLJ-112           IDLF Lofistics  Unknown Phone Number     2022-11-04  Previous_Shipper_Phone\n",
       "4   ERLJ-101     Speedy International        (503) 555-9831     2022-11-04  Previous_Shipper_Phone\n",
       "5   ERLJ-104  Lazaro Bulk Corporation        (503) 555-2399     2022-11-04  Previous_Shipper_Phone"
      ]
     },
     "execution_count": 72,
     "metadata": {},
     "output_type": "execute_result"
    }
   ],
   "source": [
    "c_table_data_df['Previous_Shipper_Phone'] = \"Previous_Shipper_Phone\"\n",
    "c_table_data_df"
   ]
  },
  {
   "cell_type": "code",
   "execution_count": 73,
   "id": "ddd31297",
   "metadata": {},
   "outputs": [
    {
     "data": {
      "text/html": [
       "<div>\n",
       "<style scoped>\n",
       "    .dataframe tbody tr th:only-of-type {\n",
       "        vertical-align: middle;\n",
       "    }\n",
       "\n",
       "    .dataframe tbody tr th {\n",
       "        vertical-align: top;\n",
       "    }\n",
       "\n",
       "    .dataframe thead th {\n",
       "        text-align: right;\n",
       "    }\n",
       "</style>\n",
       "<table border=\"1\" class=\"dataframe\">\n",
       "  <thead>\n",
       "    <tr style=\"text-align: right;\">\n",
       "      <th></th>\n",
       "      <th>Shipper_ID</th>\n",
       "      <th>Shipper_Name</th>\n",
       "      <th>Current_Shipper_Phone</th>\n",
       "      <th>Effective_Date</th>\n",
       "      <th>Previous_Shipper_Phone</th>\n",
       "    </tr>\n",
       "  </thead>\n",
       "  <tbody>\n",
       "    <tr>\n",
       "      <th>0</th>\n",
       "      <td>ERLJ-108</td>\n",
       "      <td>Log Logistics</td>\n",
       "      <td>(503) 555-2374</td>\n",
       "      <td>2022-11-04</td>\n",
       "      <td>Previous_Shipper_Phone</td>\n",
       "    </tr>\n",
       "    <tr>\n",
       "      <th>1</th>\n",
       "      <td>ERLJ-109</td>\n",
       "      <td>Fast and the Slow</td>\n",
       "      <td>(503) 555-7712</td>\n",
       "      <td>2022-11-04</td>\n",
       "      <td>Previous_Shipper_Phone</td>\n",
       "    </tr>\n",
       "    <tr>\n",
       "      <th>2</th>\n",
       "      <td>ERLJ-110</td>\n",
       "      <td>Tangera Express</td>\n",
       "      <td>(503) 555-3344</td>\n",
       "      <td>2022-11-04</td>\n",
       "      <td>Previous_Shipper_Phone</td>\n",
       "    </tr>\n",
       "    <tr>\n",
       "      <th>3</th>\n",
       "      <td>ERLJ-112</td>\n",
       "      <td>IDLF Lofistics</td>\n",
       "      <td>Unknown Phone Number</td>\n",
       "      <td>2022-11-04</td>\n",
       "      <td>Previous_Shipper_Phone</td>\n",
       "    </tr>\n",
       "    <tr>\n",
       "      <th>4</th>\n",
       "      <td>ERLJ-101</td>\n",
       "      <td>Speedy International</td>\n",
       "      <td>(503) 555-9831</td>\n",
       "      <td>2022-11-04</td>\n",
       "      <td>Previous_Shipper_Phone</td>\n",
       "    </tr>\n",
       "    <tr>\n",
       "      <th>5</th>\n",
       "      <td>ERLJ-104</td>\n",
       "      <td>Lazaro Bulk Corporation</td>\n",
       "      <td>(503) 555-2399</td>\n",
       "      <td>2022-11-04</td>\n",
       "      <td>Previous_Shipper_Phone</td>\n",
       "    </tr>\n",
       "  </tbody>\n",
       "</table>\n",
       "</div>"
      ],
      "text/plain": [
       "  Shipper_ID             Shipper_Name Current_Shipper_Phone Effective_Date  Previous_Shipper_Phone\n",
       "0   ERLJ-108            Log Logistics        (503) 555-2374     2022-11-04  Previous_Shipper_Phone\n",
       "1   ERLJ-109        Fast and the Slow        (503) 555-7712     2022-11-04  Previous_Shipper_Phone\n",
       "2   ERLJ-110          Tangera Express        (503) 555-3344     2022-11-04  Previous_Shipper_Phone\n",
       "3   ERLJ-112           IDLF Lofistics  Unknown Phone Number     2022-11-04  Previous_Shipper_Phone\n",
       "4   ERLJ-101     Speedy International        (503) 555-9831     2022-11-04  Previous_Shipper_Phone\n",
       "5   ERLJ-104  Lazaro Bulk Corporation        (503) 555-2399     2022-11-04  Previous_Shipper_Phone"
      ]
     },
     "execution_count": 73,
     "metadata": {},
     "output_type": "execute_result"
    }
   ],
   "source": [
    "c_table_data_df = c_table_data_df[['Shipper_ID', 'Shipper_Name','Current_Shipper_Phone','Effective_Date','Previous_Shipper_Phone']]\n",
    "c_table_data_df "
   ]
  },
  {
   "cell_type": "code",
   "execution_count": 74,
   "id": "ac0f196b",
   "metadata": {},
   "outputs": [
    {
     "data": {
      "text/plain": [
       "[]"
      ]
     },
     "execution_count": 74,
     "metadata": {},
     "output_type": "execute_result"
    }
   ],
   "source": [
    "delete_cshippers = c.execute('Delete from T_Shipper')\n",
    "c.execute('Select * from T_Shipper')\n",
    "c.fetchall()"
   ]
  },
  {
   "cell_type": "code",
   "execution_count": 75,
   "id": "da536baa",
   "metadata": {},
   "outputs": [
    {
     "data": {
      "text/plain": [
       "[('ERLJ-108',\n",
       "  'Log Logistics',\n",
       "  '(503) 555-2374',\n",
       "  'Previous_Shipper_Phone',\n",
       "  '2022-11-04'),\n",
       " ('ERLJ-109',\n",
       "  'Fast and the Slow',\n",
       "  '(503) 555-7712',\n",
       "  'Previous_Shipper_Phone',\n",
       "  '2022-11-04'),\n",
       " ('ERLJ-110',\n",
       "  'Tangera Express',\n",
       "  '(503) 555-3344',\n",
       "  'Previous_Shipper_Phone',\n",
       "  '2022-11-04'),\n",
       " ('ERLJ-112',\n",
       "  'IDLF Lofistics',\n",
       "  'Unknown Phone Number',\n",
       "  'Previous_Shipper_Phone',\n",
       "  '2022-11-04'),\n",
       " ('ERLJ-101',\n",
       "  'Speedy International',\n",
       "  '(503) 555-9831',\n",
       "  'Previous_Shipper_Phone',\n",
       "  '2022-11-04'),\n",
       " ('ERLJ-104',\n",
       "  'Lazaro Bulk Corporation',\n",
       "  '(503) 555-2399',\n",
       "  'Previous_Shipper_Phone',\n",
       "  '2022-11-04')]"
      ]
     },
     "execution_count": 75,
     "metadata": {},
     "output_type": "execute_result"
    }
   ],
   "source": [
    "cols = \"','\".join([str(i) for i in c_table_data_df.columns.tolist()])\n",
    "\n",
    "for i, row in c_table_data_df.iterrows():\n",
    "    sql = \"Insert into T_Shipper ('\"+cols +\"') values (\" + \"'%s',\"*(len(row)-1) + \"'%s\" + \"')\"\n",
    "    a_string = sql %tuple(row) if value is None else value\n",
    "    c.execute(a_string)\n",
    "    dwconn.commit()\n",
    "c.execute('''Select * from T_Shipper''')\n",
    "c.fetchall()"
   ]
  },
  {
   "cell_type": "code",
   "execution_count": 76,
   "id": "287fd4f5",
   "metadata": {},
   "outputs": [
    {
     "data": {
      "text/html": [
       "<div>\n",
       "<style scoped>\n",
       "    .dataframe tbody tr th:only-of-type {\n",
       "        vertical-align: middle;\n",
       "    }\n",
       "\n",
       "    .dataframe tbody tr th {\n",
       "        vertical-align: top;\n",
       "    }\n",
       "\n",
       "    .dataframe thead th {\n",
       "        text-align: right;\n",
       "    }\n",
       "</style>\n",
       "<table border=\"1\" class=\"dataframe\">\n",
       "  <thead>\n",
       "    <tr style=\"text-align: right;\">\n",
       "      <th></th>\n",
       "      <th>Shipper_ID</th>\n",
       "      <th>Shipper_Name</th>\n",
       "      <th>Current_Shipper_Phone</th>\n",
       "      <th>Previous_Shipper_Phone</th>\n",
       "      <th>Effective_Date</th>\n",
       "    </tr>\n",
       "  </thead>\n",
       "  <tbody>\n",
       "    <tr>\n",
       "      <th>0</th>\n",
       "      <td>ERLJ-108</td>\n",
       "      <td>Log Logistics</td>\n",
       "      <td>(503) 555-2374</td>\n",
       "      <td>Previous_Shipper_Phone</td>\n",
       "      <td>2022-11-04</td>\n",
       "    </tr>\n",
       "    <tr>\n",
       "      <th>1</th>\n",
       "      <td>ERLJ-109</td>\n",
       "      <td>Fast and the Slow</td>\n",
       "      <td>(503) 555-7712</td>\n",
       "      <td>Previous_Shipper_Phone</td>\n",
       "      <td>2022-11-04</td>\n",
       "    </tr>\n",
       "    <tr>\n",
       "      <th>2</th>\n",
       "      <td>ERLJ-110</td>\n",
       "      <td>Tangera Express</td>\n",
       "      <td>(503) 555-3344</td>\n",
       "      <td>Previous_Shipper_Phone</td>\n",
       "      <td>2022-11-04</td>\n",
       "    </tr>\n",
       "    <tr>\n",
       "      <th>3</th>\n",
       "      <td>ERLJ-112</td>\n",
       "      <td>IDLF Lofistics</td>\n",
       "      <td>Unknown Phone Number</td>\n",
       "      <td>Previous_Shipper_Phone</td>\n",
       "      <td>2022-11-04</td>\n",
       "    </tr>\n",
       "  </tbody>\n",
       "</table>\n",
       "</div>"
      ],
      "text/plain": [
       "  Shipper_ID       Shipper_Name Current_Shipper_Phone  Previous_Shipper_Phone Effective_Date\n",
       "0   ERLJ-108      Log Logistics        (503) 555-2374  Previous_Shipper_Phone     2022-11-04\n",
       "1   ERLJ-109  Fast and the Slow        (503) 555-7712  Previous_Shipper_Phone     2022-11-04\n",
       "2   ERLJ-110    Tangera Express        (503) 555-3344  Previous_Shipper_Phone     2022-11-04\n",
       "3   ERLJ-112     IDLF Lofistics  Unknown Phone Number  Previous_Shipper_Phone     2022-11-04"
      ]
     },
     "execution_count": 76,
     "metadata": {},
     "output_type": "execute_result"
    }
   ],
   "source": [
    "t_table_new_data_df = pd.read_sql('''Select t.* from t_shipper t left join d_shipper d on t.Shipper_ID = d.Shipper_ID\n",
    "where d.Shipper_ID is null''', dwconn)\n",
    "t_table_new_data_df"
   ]
  },
  {
   "cell_type": "code",
   "execution_count": 79,
   "id": "a6210e7f",
   "metadata": {},
   "outputs": [],
   "source": [
    "t_table_new_data_df['Current_Row_Ind'] = 'Y'"
   ]
  },
  {
   "cell_type": "code",
   "execution_count": 81,
   "id": "d63622e3",
   "metadata": {},
   "outputs": [
    {
     "data": {
      "text/plain": [
       "[]"
      ]
     },
     "execution_count": 81,
     "metadata": {},
     "output_type": "execute_result"
    }
   ],
   "source": [
    "delete_ishippers = c.execute('Delete from I_Shipper')\n",
    "c.execute(\"Select * from I_Shipper\")\n",
    "c.fetchall()"
   ]
  },
  {
   "cell_type": "code",
   "execution_count": 82,
   "id": "f2ae11e0",
   "metadata": {},
   "outputs": [
    {
     "data": {
      "text/plain": [
       "[('ERLJ-108',\n",
       "  'Log Logistics',\n",
       "  '(503) 555-2374',\n",
       "  'Previous_Shipper_Phone',\n",
       "  '2022-11-04',\n",
       "  'Y'),\n",
       " ('ERLJ-109',\n",
       "  'Fast and the Slow',\n",
       "  '(503) 555-7712',\n",
       "  'Previous_Shipper_Phone',\n",
       "  '2022-11-04',\n",
       "  'Y'),\n",
       " ('ERLJ-110',\n",
       "  'Tangera Express',\n",
       "  '(503) 555-3344',\n",
       "  'Previous_Shipper_Phone',\n",
       "  '2022-11-04',\n",
       "  'Y'),\n",
       " ('ERLJ-112',\n",
       "  'IDLF Lofistics',\n",
       "  'Unknown Phone Number',\n",
       "  'Previous_Shipper_Phone',\n",
       "  '2022-11-04',\n",
       "  'Y')]"
      ]
     },
     "execution_count": 82,
     "metadata": {},
     "output_type": "execute_result"
    }
   ],
   "source": [
    "cols = \"','\".join([str(i) for i in t_table_new_data_df.columns.tolist()])\n",
    "\n",
    "for i, row in t_table_new_data_df.iterrows():\n",
    "    sql = \"Insert into I_Shipper ('\"+cols +\"') values (\" + \"'%s',\"*(len(row)-1) + \"'%s\" + \"')\"\n",
    "    a_string = sql %tuple(row) if value is None else value\n",
    "    c.execute(a_string)\n",
    "    dwconn.commit()\n",
    "c.execute('''Select * from I_Shipper''')\n",
    "c.fetchall()"
   ]
  },
  {
   "cell_type": "code",
   "execution_count": 87,
   "id": "81861652",
   "metadata": {},
   "outputs": [
    {
     "data": {
      "text/html": [
       "<div>\n",
       "<style scoped>\n",
       "    .dataframe tbody tr th:only-of-type {\n",
       "        vertical-align: middle;\n",
       "    }\n",
       "\n",
       "    .dataframe tbody tr th {\n",
       "        vertical-align: top;\n",
       "    }\n",
       "\n",
       "    .dataframe thead th {\n",
       "        text-align: right;\n",
       "    }\n",
       "</style>\n",
       "<table border=\"1\" class=\"dataframe\">\n",
       "  <thead>\n",
       "    <tr style=\"text-align: right;\">\n",
       "      <th></th>\n",
       "      <th>Shipper_ID</th>\n",
       "      <th>Shipper_Name</th>\n",
       "      <th>Current_Shipper_Phone</th>\n",
       "      <th>Previous_Shipper_Phone</th>\n",
       "      <th>Effective_Date</th>\n",
       "    </tr>\n",
       "  </thead>\n",
       "  <tbody>\n",
       "    <tr>\n",
       "      <th>0</th>\n",
       "      <td>ERLJ-101</td>\n",
       "      <td>Speedy International</td>\n",
       "      <td>(503) 555-9831</td>\n",
       "      <td>Previous_Shipper_Phone</td>\n",
       "      <td>2022-11-04</td>\n",
       "    </tr>\n",
       "    <tr>\n",
       "      <th>1</th>\n",
       "      <td>ERLJ-104</td>\n",
       "      <td>Lazaro Bulk Corporation</td>\n",
       "      <td>(503) 555-2399</td>\n",
       "      <td>Previous_Shipper_Phone</td>\n",
       "      <td>2022-11-04</td>\n",
       "    </tr>\n",
       "  </tbody>\n",
       "</table>\n",
       "</div>"
      ],
      "text/plain": [
       "  Shipper_ID             Shipper_Name Current_Shipper_Phone  Previous_Shipper_Phone Effective_Date\n",
       "0   ERLJ-101     Speedy International        (503) 555-9831  Previous_Shipper_Phone     2022-11-04\n",
       "1   ERLJ-104  Lazaro Bulk Corporation        (503) 555-2399  Previous_Shipper_Phone     2022-11-04"
      ]
     },
     "execution_count": 87,
     "metadata": {},
     "output_type": "execute_result"
    }
   ],
   "source": [
    "t_table_changed_data_df = pd.read_sql('''Select t.* from t_shipper t inner join d_shipper d on t.Shipper_ID = d.Shipper_ID\n",
    "where (NOT t.Shipper_Name = d.Shipper_Name or Not t.Current_Shipper_Phone\n",
    "= d.Current_Shipper_Phone) AND d.Current_Row_Ind in ('Y')''', dwconn)\n",
    "t_table_changed_data_df "
   ]
  },
  {
   "cell_type": "code",
   "execution_count": 88,
   "id": "72069224",
   "metadata": {},
   "outputs": [
    {
     "data": {
      "text/plain": [
       "[]"
      ]
     },
     "execution_count": 88,
     "metadata": {},
     "output_type": "execute_result"
    }
   ],
   "source": [
    "delete_ushippers = c.execute('Delete from u_Shipper')\n",
    "c.execute('Select * from u_Shipper')\n",
    "c.fetchall()"
   ]
  },
  {
   "cell_type": "code",
   "execution_count": 89,
   "id": "575ea8ef",
   "metadata": {},
   "outputs": [
    {
     "data": {
      "text/plain": [
       "[('ERLJ-101',\n",
       "  'Speedy International',\n",
       "  '(503) 555-9831',\n",
       "  'Previous_Shipper_Phone',\n",
       "  '2022-11-04',\n",
       "  None),\n",
       " ('ERLJ-104',\n",
       "  'Lazaro Bulk Corporation',\n",
       "  '(503) 555-2399',\n",
       "  'Previous_Shipper_Phone',\n",
       "  '2022-11-04',\n",
       "  None)]"
      ]
     },
     "execution_count": 89,
     "metadata": {},
     "output_type": "execute_result"
    }
   ],
   "source": [
    "cols = \"','\".join([str(i) for i in t_table_changed_data_df.columns.tolist()])\n",
    "\n",
    "for i, row in t_table_changed_data_df.iterrows():\n",
    "    sql = \"Insert into U_Shipper ('\"+cols +\"') values (\" + \"'%s',\"*(len(row)-1) + \"'%s\" + \"')\"\n",
    "    a_string = sql %tuple(row) if value is None else value\n",
    "    c.execute(a_string)\n",
    "    dwconn.commit()\n",
    "c.execute('''Select * from U_Shipper''')\n",
    "c.fetchall()"
   ]
  },
  {
   "cell_type": "code",
   "execution_count": 90,
   "id": "dd4fc0a4",
   "metadata": {},
   "outputs": [
    {
     "data": {
      "text/html": [
       "<div>\n",
       "<style scoped>\n",
       "    .dataframe tbody tr th:only-of-type {\n",
       "        vertical-align: middle;\n",
       "    }\n",
       "\n",
       "    .dataframe tbody tr th {\n",
       "        vertical-align: top;\n",
       "    }\n",
       "\n",
       "    .dataframe thead th {\n",
       "        text-align: right;\n",
       "    }\n",
       "</style>\n",
       "<table border=\"1\" class=\"dataframe\">\n",
       "  <thead>\n",
       "    <tr style=\"text-align: right;\">\n",
       "      <th></th>\n",
       "      <th>MAX</th>\n",
       "    </tr>\n",
       "  </thead>\n",
       "  <tbody>\n",
       "    <tr>\n",
       "      <th>0</th>\n",
       "      <td>7</td>\n",
       "    </tr>\n",
       "  </tbody>\n",
       "</table>\n",
       "</div>"
      ],
      "text/plain": [
       "   MAX\n",
       "0    7"
      ]
     },
     "execution_count": 90,
     "metadata": {},
     "output_type": "execute_result"
    }
   ],
   "source": [
    "maxkey = pd.read_sql('''Select Max(Shipper_Key) as MAX from D_Shipper''', dwconn)\n",
    "maxkey"
   ]
  },
  {
   "cell_type": "code",
   "execution_count": 94,
   "id": "ac91a74f",
   "metadata": {},
   "outputs": [],
   "source": [
    "i_table_data_df = pd.read_sql('''Select * from I_Shipper''', dwconn)\n",
    "i_table_data_df['Shipper_Key'] = np.arange(pd.to_numeric(maxkey.iloc[0]).values+1, (pd.to_numeric(maxkey.iloc[0].values)+len(i_table_data_df)+1))"
   ]
  },
  {
   "cell_type": "code",
   "execution_count": 95,
   "id": "62a2d890",
   "metadata": {},
   "outputs": [
    {
     "data": {
      "text/html": [
       "<div>\n",
       "<style scoped>\n",
       "    .dataframe tbody tr th:only-of-type {\n",
       "        vertical-align: middle;\n",
       "    }\n",
       "\n",
       "    .dataframe tbody tr th {\n",
       "        vertical-align: top;\n",
       "    }\n",
       "\n",
       "    .dataframe thead th {\n",
       "        text-align: right;\n",
       "    }\n",
       "</style>\n",
       "<table border=\"1\" class=\"dataframe\">\n",
       "  <thead>\n",
       "    <tr style=\"text-align: right;\">\n",
       "      <th></th>\n",
       "      <th>Shipper_ID</th>\n",
       "      <th>Shipper_Name</th>\n",
       "      <th>Current_Shipper_Phone</th>\n",
       "      <th>Previous_Shipper_Phone</th>\n",
       "      <th>Effective_Date</th>\n",
       "      <th>Current_Row_Ind</th>\n",
       "      <th>Shipper_Key</th>\n",
       "    </tr>\n",
       "  </thead>\n",
       "  <tbody>\n",
       "    <tr>\n",
       "      <th>0</th>\n",
       "      <td>ERLJ-108</td>\n",
       "      <td>Log Logistics</td>\n",
       "      <td>(503) 555-2374</td>\n",
       "      <td>Previous_Shipper_Phone</td>\n",
       "      <td>2022-11-04</td>\n",
       "      <td>Y</td>\n",
       "      <td>8</td>\n",
       "    </tr>\n",
       "    <tr>\n",
       "      <th>1</th>\n",
       "      <td>ERLJ-109</td>\n",
       "      <td>Fast and the Slow</td>\n",
       "      <td>(503) 555-7712</td>\n",
       "      <td>Previous_Shipper_Phone</td>\n",
       "      <td>2022-11-04</td>\n",
       "      <td>Y</td>\n",
       "      <td>9</td>\n",
       "    </tr>\n",
       "    <tr>\n",
       "      <th>2</th>\n",
       "      <td>ERLJ-110</td>\n",
       "      <td>Tangera Express</td>\n",
       "      <td>(503) 555-3344</td>\n",
       "      <td>Previous_Shipper_Phone</td>\n",
       "      <td>2022-11-04</td>\n",
       "      <td>Y</td>\n",
       "      <td>10</td>\n",
       "    </tr>\n",
       "    <tr>\n",
       "      <th>3</th>\n",
       "      <td>ERLJ-112</td>\n",
       "      <td>IDLF Lofistics</td>\n",
       "      <td>Unknown Phone Number</td>\n",
       "      <td>Previous_Shipper_Phone</td>\n",
       "      <td>2022-11-04</td>\n",
       "      <td>Y</td>\n",
       "      <td>11</td>\n",
       "    </tr>\n",
       "  </tbody>\n",
       "</table>\n",
       "</div>"
      ],
      "text/plain": [
       "  Shipper_ID       Shipper_Name Current_Shipper_Phone  Previous_Shipper_Phone Effective_Date Current_Row_Ind  Shipper_Key\n",
       "0   ERLJ-108      Log Logistics        (503) 555-2374  Previous_Shipper_Phone     2022-11-04               Y            8\n",
       "1   ERLJ-109  Fast and the Slow        (503) 555-7712  Previous_Shipper_Phone     2022-11-04               Y            9\n",
       "2   ERLJ-110    Tangera Express        (503) 555-3344  Previous_Shipper_Phone     2022-11-04               Y           10\n",
       "3   ERLJ-112     IDLF Lofistics  Unknown Phone Number  Previous_Shipper_Phone     2022-11-04               Y           11"
      ]
     },
     "execution_count": 95,
     "metadata": {},
     "output_type": "execute_result"
    }
   ],
   "source": [
    "i_table_data_df"
   ]
  },
  {
   "cell_type": "code",
   "execution_count": 96,
   "id": "218d65a0",
   "metadata": {},
   "outputs": [
    {
     "data": {
      "text/html": [
       "<div>\n",
       "<style scoped>\n",
       "    .dataframe tbody tr th:only-of-type {\n",
       "        vertical-align: middle;\n",
       "    }\n",
       "\n",
       "    .dataframe tbody tr th {\n",
       "        vertical-align: top;\n",
       "    }\n",
       "\n",
       "    .dataframe thead th {\n",
       "        text-align: right;\n",
       "    }\n",
       "</style>\n",
       "<table border=\"1\" class=\"dataframe\">\n",
       "  <thead>\n",
       "    <tr style=\"text-align: right;\">\n",
       "      <th></th>\n",
       "      <th>Shipper_Key</th>\n",
       "      <th>Shipper_ID</th>\n",
       "      <th>Shipper_Name</th>\n",
       "      <th>Current_Shipper_Phone</th>\n",
       "      <th>Previous_Shipper_Phone</th>\n",
       "      <th>Effective_Date</th>\n",
       "      <th>Current_Row_Ind</th>\n",
       "    </tr>\n",
       "  </thead>\n",
       "  <tbody>\n",
       "    <tr>\n",
       "      <th>0</th>\n",
       "      <td>8</td>\n",
       "      <td>ERLJ-108</td>\n",
       "      <td>Log Logistics</td>\n",
       "      <td>(503) 555-2374</td>\n",
       "      <td>Previous_Shipper_Phone</td>\n",
       "      <td>2022-11-04</td>\n",
       "      <td>Y</td>\n",
       "    </tr>\n",
       "    <tr>\n",
       "      <th>1</th>\n",
       "      <td>9</td>\n",
       "      <td>ERLJ-109</td>\n",
       "      <td>Fast and the Slow</td>\n",
       "      <td>(503) 555-7712</td>\n",
       "      <td>Previous_Shipper_Phone</td>\n",
       "      <td>2022-11-04</td>\n",
       "      <td>Y</td>\n",
       "    </tr>\n",
       "    <tr>\n",
       "      <th>2</th>\n",
       "      <td>10</td>\n",
       "      <td>ERLJ-110</td>\n",
       "      <td>Tangera Express</td>\n",
       "      <td>(503) 555-3344</td>\n",
       "      <td>Previous_Shipper_Phone</td>\n",
       "      <td>2022-11-04</td>\n",
       "      <td>Y</td>\n",
       "    </tr>\n",
       "    <tr>\n",
       "      <th>3</th>\n",
       "      <td>11</td>\n",
       "      <td>ERLJ-112</td>\n",
       "      <td>IDLF Lofistics</td>\n",
       "      <td>Unknown Phone Number</td>\n",
       "      <td>Previous_Shipper_Phone</td>\n",
       "      <td>2022-11-04</td>\n",
       "      <td>Y</td>\n",
       "    </tr>\n",
       "  </tbody>\n",
       "</table>\n",
       "</div>"
      ],
      "text/plain": [
       "   Shipper_Key Shipper_ID       Shipper_Name Current_Shipper_Phone  Previous_Shipper_Phone Effective_Date Current_Row_Ind\n",
       "0            8   ERLJ-108      Log Logistics        (503) 555-2374  Previous_Shipper_Phone     2022-11-04               Y\n",
       "1            9   ERLJ-109  Fast and the Slow        (503) 555-7712  Previous_Shipper_Phone     2022-11-04               Y\n",
       "2           10   ERLJ-110    Tangera Express        (503) 555-3344  Previous_Shipper_Phone     2022-11-04               Y\n",
       "3           11   ERLJ-112     IDLF Lofistics  Unknown Phone Number  Previous_Shipper_Phone     2022-11-04               Y"
      ]
     },
     "execution_count": 96,
     "metadata": {},
     "output_type": "execute_result"
    }
   ],
   "source": [
    "i_table_data_df = i_table_data_df[['Shipper_Key','Shipper_ID','Shipper_Name','Current_Shipper_Phone','Previous_Shipper_Phone','Effective_Date','Current_Row_Ind']]\n",
    "i_table_data_df"
   ]
  },
  {
   "cell_type": "code",
   "execution_count": 97,
   "id": "44e8f5c1",
   "metadata": {},
   "outputs": [
    {
     "data": {
      "text/html": [
       "<div>\n",
       "<style scoped>\n",
       "    .dataframe tbody tr th:only-of-type {\n",
       "        vertical-align: middle;\n",
       "    }\n",
       "\n",
       "    .dataframe tbody tr th {\n",
       "        vertical-align: top;\n",
       "    }\n",
       "\n",
       "    .dataframe thead th {\n",
       "        text-align: right;\n",
       "    }\n",
       "</style>\n",
       "<table border=\"1\" class=\"dataframe\">\n",
       "  <thead>\n",
       "    <tr style=\"text-align: right;\">\n",
       "      <th></th>\n",
       "      <th>Shipper_Key</th>\n",
       "      <th>Shipper_ID</th>\n",
       "      <th>Shipper_Name</th>\n",
       "      <th>Current_Shipper_Phone</th>\n",
       "      <th>Previous_Shipper_Phone</th>\n",
       "      <th>Effective_Date</th>\n",
       "      <th>Current_Row_Ind</th>\n",
       "    </tr>\n",
       "  </thead>\n",
       "  <tbody>\n",
       "    <tr>\n",
       "      <th>0</th>\n",
       "      <td>1</td>\n",
       "      <td>ERLJ-101</td>\n",
       "      <td>Speedy Express</td>\n",
       "      <td>(503) 555-9831</td>\n",
       "      <td>Previous Phone Unknown</td>\n",
       "      <td>10/31/2014</td>\n",
       "      <td>Y</td>\n",
       "    </tr>\n",
       "    <tr>\n",
       "      <th>1</th>\n",
       "      <td>2</td>\n",
       "      <td>ERLJ-102</td>\n",
       "      <td>United Package</td>\n",
       "      <td>(503) 555-8712</td>\n",
       "      <td>Previous Phone Unknown</td>\n",
       "      <td>10/31/2014</td>\n",
       "      <td>Y</td>\n",
       "    </tr>\n",
       "    <tr>\n",
       "      <th>2</th>\n",
       "      <td>3</td>\n",
       "      <td>ERLJ-103</td>\n",
       "      <td>Federal Shipping</td>\n",
       "      <td>(503) 555-9931</td>\n",
       "      <td>Previous Phone Unknown</td>\n",
       "      <td>10/31/2014</td>\n",
       "      <td>Y</td>\n",
       "    </tr>\n",
       "    <tr>\n",
       "      <th>3</th>\n",
       "      <td>4</td>\n",
       "      <td>ERLJ-104</td>\n",
       "      <td>Lazaro Bulk Corporation</td>\n",
       "      <td>(503) 555-2388</td>\n",
       "      <td>Previous Phone Unknown</td>\n",
       "      <td>10/31/2014</td>\n",
       "      <td>Y</td>\n",
       "    </tr>\n",
       "    <tr>\n",
       "      <th>4</th>\n",
       "      <td>5</td>\n",
       "      <td>ERLJ-105</td>\n",
       "      <td>Pacia Estates</td>\n",
       "      <td>(503) 555-5564</td>\n",
       "      <td>Previous Phone Unknown</td>\n",
       "      <td>10/31/2014</td>\n",
       "      <td>Y</td>\n",
       "    </tr>\n",
       "    <tr>\n",
       "      <th>5</th>\n",
       "      <td>6</td>\n",
       "      <td>ERLJ-106</td>\n",
       "      <td>We Like to Move it</td>\n",
       "      <td>(503) 555-1234</td>\n",
       "      <td>Previous Phone Unknown</td>\n",
       "      <td>10/31/2014</td>\n",
       "      <td>Y</td>\n",
       "    </tr>\n",
       "    <tr>\n",
       "      <th>6</th>\n",
       "      <td>7</td>\n",
       "      <td>ERLJ-107</td>\n",
       "      <td>Transpo Updates</td>\n",
       "      <td>(503) 555-6520</td>\n",
       "      <td>Previous Phone Unknown</td>\n",
       "      <td>10/31/2014</td>\n",
       "      <td>Y</td>\n",
       "    </tr>\n",
       "    <tr>\n",
       "      <th>7</th>\n",
       "      <td>8</td>\n",
       "      <td>ERLJ-108</td>\n",
       "      <td>Log Logistics</td>\n",
       "      <td>(503) 555-2374</td>\n",
       "      <td>Previous_Shipper_Phone</td>\n",
       "      <td>2022-11-04</td>\n",
       "      <td>Y</td>\n",
       "    </tr>\n",
       "    <tr>\n",
       "      <th>8</th>\n",
       "      <td>9</td>\n",
       "      <td>ERLJ-109</td>\n",
       "      <td>Fast and the Slow</td>\n",
       "      <td>(503) 555-7712</td>\n",
       "      <td>Previous_Shipper_Phone</td>\n",
       "      <td>2022-11-04</td>\n",
       "      <td>Y</td>\n",
       "    </tr>\n",
       "    <tr>\n",
       "      <th>9</th>\n",
       "      <td>10</td>\n",
       "      <td>ERLJ-110</td>\n",
       "      <td>Tangera Express</td>\n",
       "      <td>(503) 555-3344</td>\n",
       "      <td>Previous_Shipper_Phone</td>\n",
       "      <td>2022-11-04</td>\n",
       "      <td>Y</td>\n",
       "    </tr>\n",
       "    <tr>\n",
       "      <th>10</th>\n",
       "      <td>11</td>\n",
       "      <td>ERLJ-112</td>\n",
       "      <td>IDLF Lofistics</td>\n",
       "      <td>Unknown Phone Number</td>\n",
       "      <td>Previous_Shipper_Phone</td>\n",
       "      <td>2022-11-04</td>\n",
       "      <td>Y</td>\n",
       "    </tr>\n",
       "  </tbody>\n",
       "</table>\n",
       "</div>"
      ],
      "text/plain": [
       "    Shipper_Key Shipper_ID             Shipper_Name Current_Shipper_Phone  Previous_Shipper_Phone Effective_Date Current_Row_Ind\n",
       "0             1   ERLJ-101           Speedy Express        (503) 555-9831  Previous Phone Unknown     10/31/2014               Y\n",
       "1             2   ERLJ-102           United Package        (503) 555-8712  Previous Phone Unknown     10/31/2014               Y\n",
       "2             3   ERLJ-103         Federal Shipping        (503) 555-9931  Previous Phone Unknown     10/31/2014               Y\n",
       "3             4   ERLJ-104  Lazaro Bulk Corporation        (503) 555-2388  Previous Phone Unknown     10/31/2014               Y\n",
       "4             5   ERLJ-105            Pacia Estates        (503) 555-5564  Previous Phone Unknown     10/31/2014               Y\n",
       "5             6   ERLJ-106       We Like to Move it        (503) 555-1234  Previous Phone Unknown     10/31/2014               Y\n",
       "6             7   ERLJ-107          Transpo Updates        (503) 555-6520  Previous Phone Unknown     10/31/2014               Y\n",
       "7             8   ERLJ-108            Log Logistics        (503) 555-2374  Previous_Shipper_Phone     2022-11-04               Y\n",
       "8             9   ERLJ-109        Fast and the Slow        (503) 555-7712  Previous_Shipper_Phone     2022-11-04               Y\n",
       "9            10   ERLJ-110          Tangera Express        (503) 555-3344  Previous_Shipper_Phone     2022-11-04               Y\n",
       "10           11   ERLJ-112           IDLF Lofistics  Unknown Phone Number  Previous_Shipper_Phone     2022-11-04               Y"
      ]
     },
     "execution_count": 97,
     "metadata": {},
     "output_type": "execute_result"
    }
   ],
   "source": [
    "cols = \"','\".join([str(i) for i in i_table_data_df.columns.tolist()])\n",
    "\n",
    "for i, row in i_table_data_df.iterrows():\n",
    "    sql = \"Insert into D_Shipper ('\"+cols +\"') values (\" + \"'%s',\"*(len(row)-1) + \"'%s\" + \"')\"\n",
    "    a_string = sql %tuple(row) if value is None else value\n",
    "    c.execute(a_string)\n",
    "    dwconn.commit()\n",
    "pd.read_sql('''Select * from D_Shipper''', dwconn)"
   ]
  },
  {
   "cell_type": "code",
   "execution_count": 98,
   "id": "ecf29672",
   "metadata": {},
   "outputs": [
    {
     "data": {
      "text/html": [
       "<div>\n",
       "<style scoped>\n",
       "    .dataframe tbody tr th:only-of-type {\n",
       "        vertical-align: middle;\n",
       "    }\n",
       "\n",
       "    .dataframe tbody tr th {\n",
       "        vertical-align: top;\n",
       "    }\n",
       "\n",
       "    .dataframe thead th {\n",
       "        text-align: right;\n",
       "    }\n",
       "</style>\n",
       "<table border=\"1\" class=\"dataframe\">\n",
       "  <thead>\n",
       "    <tr style=\"text-align: right;\">\n",
       "      <th></th>\n",
       "      <th>Shipper_ID</th>\n",
       "      <th>Shipper_Name</th>\n",
       "      <th>Current_Shipper_Phone</th>\n",
       "      <th>Previous_Shipper_Phone</th>\n",
       "      <th>Effective_Date</th>\n",
       "      <th>Current_Row_Ind</th>\n",
       "    </tr>\n",
       "  </thead>\n",
       "  <tbody>\n",
       "    <tr>\n",
       "      <th>0</th>\n",
       "      <td>ERLJ-104</td>\n",
       "      <td>Lazaro Bulk Corporation</td>\n",
       "      <td>(503) 555-2399</td>\n",
       "      <td>Previous_Shipper_Phone</td>\n",
       "      <td>2022-11-04</td>\n",
       "      <td>None</td>\n",
       "    </tr>\n",
       "  </tbody>\n",
       "</table>\n",
       "</div>"
      ],
      "text/plain": [
       "  Shipper_ID             Shipper_Name Current_Shipper_Phone  Previous_Shipper_Phone Effective_Date Current_Row_Ind\n",
       "0   ERLJ-104  Lazaro Bulk Corporation        (503) 555-2399  Previous_Shipper_Phone     2022-11-04            None"
      ]
     },
     "execution_count": 98,
     "metadata": {},
     "output_type": "execute_result"
    }
   ],
   "source": [
    "u_table_type3_data_df = pd.read_sql('''Select u.* from U_Shipper u inner join D_Shipper d on u.Shipper_ID = d.Shipper_ID where not (u.Current_Shipper_Phone = d.Current_Shipper_Phone) and d.Current_Row_Ind in ('Y')''', dwconn)\n",
    "u_table_type3_data_df"
   ]
  },
  {
   "cell_type": "code",
   "execution_count": 100,
   "id": "b9f4e23a",
   "metadata": {},
   "outputs": [
    {
     "data": {
      "text/html": [
       "<div>\n",
       "<style scoped>\n",
       "    .dataframe tbody tr th:only-of-type {\n",
       "        vertical-align: middle;\n",
       "    }\n",
       "\n",
       "    .dataframe tbody tr th {\n",
       "        vertical-align: top;\n",
       "    }\n",
       "\n",
       "    .dataframe thead th {\n",
       "        text-align: right;\n",
       "    }\n",
       "</style>\n",
       "<table border=\"1\" class=\"dataframe\">\n",
       "  <thead>\n",
       "    <tr style=\"text-align: right;\">\n",
       "      <th></th>\n",
       "      <th>Shipper_Key</th>\n",
       "      <th>Shipper_ID</th>\n",
       "      <th>Shipper_Name</th>\n",
       "      <th>Current_Shipper_Phone</th>\n",
       "      <th>Previous_Shipper_Phone</th>\n",
       "      <th>Effective_Date</th>\n",
       "      <th>Current_Row_Ind</th>\n",
       "    </tr>\n",
       "  </thead>\n",
       "  <tbody>\n",
       "    <tr>\n",
       "      <th>0</th>\n",
       "      <td>4</td>\n",
       "      <td>ERLJ-104</td>\n",
       "      <td>Lazaro Bulk Corporation</td>\n",
       "      <td>(503) 555-2388</td>\n",
       "      <td>Previous Phone Unknown</td>\n",
       "      <td>10/31/2014</td>\n",
       "      <td>Y</td>\n",
       "    </tr>\n",
       "  </tbody>\n",
       "</table>\n",
       "</div>"
      ],
      "text/plain": [
       "   Shipper_Key Shipper_ID             Shipper_Name Current_Shipper_Phone  Previous_Shipper_Phone Effective_Date Current_Row_Ind\n",
       "0            4   ERLJ-104  Lazaro Bulk Corporation        (503) 555-2388  Previous Phone Unknown     10/31/2014               Y"
      ]
     },
     "execution_count": 100,
     "metadata": {},
     "output_type": "execute_result"
    }
   ],
   "source": [
    "d_table_type3_data_df = pd.read_sql('''select d.* from U_Shipper u inner join D_Shipper d on u.Shipper_ID = d.Shipper_ID where not (u.Current_Shipper_Phone = d.Current_Shipper_Phone) and d.Current_Row_Ind in ('Y')''', dwconn)\n",
    "d_table_type3_data_df"
   ]
  },
  {
   "cell_type": "code",
   "execution_count": 101,
   "id": "4984fe30",
   "metadata": {},
   "outputs": [
    {
     "data": {
      "text/html": [
       "<div>\n",
       "<style scoped>\n",
       "    .dataframe tbody tr th:only-of-type {\n",
       "        vertical-align: middle;\n",
       "    }\n",
       "\n",
       "    .dataframe tbody tr th {\n",
       "        vertical-align: top;\n",
       "    }\n",
       "\n",
       "    .dataframe thead th {\n",
       "        text-align: right;\n",
       "    }\n",
       "</style>\n",
       "<table border=\"1\" class=\"dataframe\">\n",
       "  <thead>\n",
       "    <tr style=\"text-align: right;\">\n",
       "      <th></th>\n",
       "      <th>Shipper_ID</th>\n",
       "      <th>Shipper_Name</th>\n",
       "      <th>Current_Shipper_Phone</th>\n",
       "      <th>Previous_Shipper_Phone</th>\n",
       "      <th>Effective_Date</th>\n",
       "      <th>Current_Row_Ind</th>\n",
       "    </tr>\n",
       "  </thead>\n",
       "  <tbody>\n",
       "    <tr>\n",
       "      <th>0</th>\n",
       "      <td>ERLJ-104</td>\n",
       "      <td>Lazaro Bulk Corporation</td>\n",
       "      <td>(503) 555-2399</td>\n",
       "      <td>(503) 555-2388</td>\n",
       "      <td>2022-11-04</td>\n",
       "      <td>None</td>\n",
       "    </tr>\n",
       "  </tbody>\n",
       "</table>\n",
       "</div>"
      ],
      "text/plain": [
       "  Shipper_ID             Shipper_Name Current_Shipper_Phone Previous_Shipper_Phone Effective_Date Current_Row_Ind\n",
       "0   ERLJ-104  Lazaro Bulk Corporation        (503) 555-2399         (503) 555-2388     2022-11-04            None"
      ]
     },
     "execution_count": 101,
     "metadata": {},
     "output_type": "execute_result"
    }
   ],
   "source": [
    "u_table_type3_data_df['Previous_Shipper_Phone'] = d_table_type3_data_df['Current_Shipper_Phone']\n",
    "u_table_type3_data_df"
   ]
  },
  {
   "cell_type": "code",
   "execution_count": 102,
   "id": "dd870e56",
   "metadata": {},
   "outputs": [
    {
     "data": {
      "text/html": [
       "<div>\n",
       "<style scoped>\n",
       "    .dataframe tbody tr th:only-of-type {\n",
       "        vertical-align: middle;\n",
       "    }\n",
       "\n",
       "    .dataframe tbody tr th {\n",
       "        vertical-align: top;\n",
       "    }\n",
       "\n",
       "    .dataframe thead th {\n",
       "        text-align: right;\n",
       "    }\n",
       "</style>\n",
       "<table border=\"1\" class=\"dataframe\">\n",
       "  <thead>\n",
       "    <tr style=\"text-align: right;\">\n",
       "      <th></th>\n",
       "      <th>Shipper_ID</th>\n",
       "      <th>Shipper_Name</th>\n",
       "      <th>Current_Shipper_Phone</th>\n",
       "      <th>Previous_Shipper_Phone</th>\n",
       "      <th>Effective_Date</th>\n",
       "      <th>Current_Row_Ind</th>\n",
       "      <th>Shipper_Key</th>\n",
       "    </tr>\n",
       "  </thead>\n",
       "  <tbody>\n",
       "    <tr>\n",
       "      <th>0</th>\n",
       "      <td>ERLJ-104</td>\n",
       "      <td>Lazaro Bulk Corporation</td>\n",
       "      <td>(503) 555-2399</td>\n",
       "      <td>(503) 555-2388</td>\n",
       "      <td>2022-11-04</td>\n",
       "      <td>None</td>\n",
       "      <td>4</td>\n",
       "    </tr>\n",
       "  </tbody>\n",
       "</table>\n",
       "</div>"
      ],
      "text/plain": [
       "  Shipper_ID             Shipper_Name Current_Shipper_Phone Previous_Shipper_Phone Effective_Date Current_Row_Ind  Shipper_Key\n",
       "0   ERLJ-104  Lazaro Bulk Corporation        (503) 555-2399         (503) 555-2388     2022-11-04            None            4"
      ]
     },
     "execution_count": 102,
     "metadata": {},
     "output_type": "execute_result"
    }
   ],
   "source": [
    "u_table_type3_data_df['Shipper_Key'] = d_table_type3_data_df['Shipper_Key']\n",
    "u_table_type3_data_df"
   ]
  },
  {
   "cell_type": "code",
   "execution_count": 103,
   "id": "0f9e4284",
   "metadata": {},
   "outputs": [
    {
     "data": {
      "text/html": [
       "<div>\n",
       "<style scoped>\n",
       "    .dataframe tbody tr th:only-of-type {\n",
       "        vertical-align: middle;\n",
       "    }\n",
       "\n",
       "    .dataframe tbody tr th {\n",
       "        vertical-align: top;\n",
       "    }\n",
       "\n",
       "    .dataframe thead th {\n",
       "        text-align: right;\n",
       "    }\n",
       "</style>\n",
       "<table border=\"1\" class=\"dataframe\">\n",
       "  <thead>\n",
       "    <tr style=\"text-align: right;\">\n",
       "      <th></th>\n",
       "      <th>Shipper_Key</th>\n",
       "      <th>Shipper_ID</th>\n",
       "      <th>Shipper_Name</th>\n",
       "      <th>Current_Shipper_Phone</th>\n",
       "      <th>Previous_Shipper_Phone</th>\n",
       "      <th>Effective_Date</th>\n",
       "      <th>Current_Row_Ind</th>\n",
       "    </tr>\n",
       "  </thead>\n",
       "  <tbody>\n",
       "    <tr>\n",
       "      <th>0</th>\n",
       "      <td>4</td>\n",
       "      <td>ERLJ-104</td>\n",
       "      <td>Lazaro Bulk Corporation</td>\n",
       "      <td>(503) 555-2399</td>\n",
       "      <td>(503) 555-2388</td>\n",
       "      <td>2022-11-04</td>\n",
       "      <td>None</td>\n",
       "    </tr>\n",
       "  </tbody>\n",
       "</table>\n",
       "</div>"
      ],
      "text/plain": [
       "   Shipper_Key Shipper_ID             Shipper_Name Current_Shipper_Phone Previous_Shipper_Phone Effective_Date Current_Row_Ind\n",
       "0            4   ERLJ-104  Lazaro Bulk Corporation        (503) 555-2399         (503) 555-2388     2022-11-04            None"
      ]
     },
     "execution_count": 103,
     "metadata": {},
     "output_type": "execute_result"
    }
   ],
   "source": [
    "u_table_type3_data_df = u_table_type3_data_df[['Shipper_Key','Shipper_ID','Shipper_Name','Current_Shipper_Phone','Previous_Shipper_Phone','Effective_Date','Current_Row_Ind']]\n",
    "u_table_type3_data_df"
   ]
  },
  {
   "cell_type": "code",
   "execution_count": 108,
   "id": "c752f6e5",
   "metadata": {},
   "outputs": [
    {
     "data": {
      "text/plain": [
       "<function Cursor.fetchall>"
      ]
     },
     "execution_count": 108,
     "metadata": {},
     "output_type": "execute_result"
    }
   ],
   "source": [
    "c.execute('''Delete from D_Shipper where Shipper_ID ='ERLJ-104' ''')\n",
    "c.execute('Select * from D_Shipper')\n",
    "c.fetchall"
   ]
  },
  {
   "cell_type": "code",
   "execution_count": 109,
   "id": "2489a886",
   "metadata": {},
   "outputs": [
    {
     "data": {
      "text/html": [
       "<div>\n",
       "<style scoped>\n",
       "    .dataframe tbody tr th:only-of-type {\n",
       "        vertical-align: middle;\n",
       "    }\n",
       "\n",
       "    .dataframe tbody tr th {\n",
       "        vertical-align: top;\n",
       "    }\n",
       "\n",
       "    .dataframe thead th {\n",
       "        text-align: right;\n",
       "    }\n",
       "</style>\n",
       "<table border=\"1\" class=\"dataframe\">\n",
       "  <thead>\n",
       "    <tr style=\"text-align: right;\">\n",
       "      <th></th>\n",
       "      <th>Shipper_Key</th>\n",
       "      <th>Shipper_ID</th>\n",
       "      <th>Shipper_Name</th>\n",
       "      <th>Current_Shipper_Phone</th>\n",
       "      <th>Previous_Shipper_Phone</th>\n",
       "      <th>Effective_Date</th>\n",
       "      <th>Current_Row_Ind</th>\n",
       "    </tr>\n",
       "  </thead>\n",
       "  <tbody>\n",
       "    <tr>\n",
       "      <th>0</th>\n",
       "      <td>1</td>\n",
       "      <td>ERLJ-101</td>\n",
       "      <td>Speedy Express</td>\n",
       "      <td>(503) 555-9831</td>\n",
       "      <td>Previous Phone Unknown</td>\n",
       "      <td>10/31/2014</td>\n",
       "      <td>Y</td>\n",
       "    </tr>\n",
       "    <tr>\n",
       "      <th>1</th>\n",
       "      <td>2</td>\n",
       "      <td>ERLJ-102</td>\n",
       "      <td>United Package</td>\n",
       "      <td>(503) 555-8712</td>\n",
       "      <td>Previous Phone Unknown</td>\n",
       "      <td>10/31/2014</td>\n",
       "      <td>Y</td>\n",
       "    </tr>\n",
       "    <tr>\n",
       "      <th>2</th>\n",
       "      <td>3</td>\n",
       "      <td>ERLJ-103</td>\n",
       "      <td>Federal Shipping</td>\n",
       "      <td>(503) 555-9931</td>\n",
       "      <td>Previous Phone Unknown</td>\n",
       "      <td>10/31/2014</td>\n",
       "      <td>Y</td>\n",
       "    </tr>\n",
       "    <tr>\n",
       "      <th>3</th>\n",
       "      <td>5</td>\n",
       "      <td>ERLJ-105</td>\n",
       "      <td>Pacia Estates</td>\n",
       "      <td>(503) 555-5564</td>\n",
       "      <td>Previous Phone Unknown</td>\n",
       "      <td>10/31/2014</td>\n",
       "      <td>Y</td>\n",
       "    </tr>\n",
       "    <tr>\n",
       "      <th>4</th>\n",
       "      <td>6</td>\n",
       "      <td>ERLJ-106</td>\n",
       "      <td>We Like to Move it</td>\n",
       "      <td>(503) 555-1234</td>\n",
       "      <td>Previous Phone Unknown</td>\n",
       "      <td>10/31/2014</td>\n",
       "      <td>Y</td>\n",
       "    </tr>\n",
       "    <tr>\n",
       "      <th>5</th>\n",
       "      <td>7</td>\n",
       "      <td>ERLJ-107</td>\n",
       "      <td>Transpo Updates</td>\n",
       "      <td>(503) 555-6520</td>\n",
       "      <td>Previous Phone Unknown</td>\n",
       "      <td>10/31/2014</td>\n",
       "      <td>Y</td>\n",
       "    </tr>\n",
       "    <tr>\n",
       "      <th>6</th>\n",
       "      <td>8</td>\n",
       "      <td>ERLJ-108</td>\n",
       "      <td>Log Logistics</td>\n",
       "      <td>(503) 555-2374</td>\n",
       "      <td>Previous_Shipper_Phone</td>\n",
       "      <td>2022-11-04</td>\n",
       "      <td>Y</td>\n",
       "    </tr>\n",
       "    <tr>\n",
       "      <th>7</th>\n",
       "      <td>9</td>\n",
       "      <td>ERLJ-109</td>\n",
       "      <td>Fast and the Slow</td>\n",
       "      <td>(503) 555-7712</td>\n",
       "      <td>Previous_Shipper_Phone</td>\n",
       "      <td>2022-11-04</td>\n",
       "      <td>Y</td>\n",
       "    </tr>\n",
       "    <tr>\n",
       "      <th>8</th>\n",
       "      <td>10</td>\n",
       "      <td>ERLJ-110</td>\n",
       "      <td>Tangera Express</td>\n",
       "      <td>(503) 555-3344</td>\n",
       "      <td>Previous_Shipper_Phone</td>\n",
       "      <td>2022-11-04</td>\n",
       "      <td>Y</td>\n",
       "    </tr>\n",
       "    <tr>\n",
       "      <th>9</th>\n",
       "      <td>11</td>\n",
       "      <td>ERLJ-112</td>\n",
       "      <td>IDLF Lofistics</td>\n",
       "      <td>Unknown Phone Number</td>\n",
       "      <td>Previous_Shipper_Phone</td>\n",
       "      <td>2022-11-04</td>\n",
       "      <td>Y</td>\n",
       "    </tr>\n",
       "  </tbody>\n",
       "</table>\n",
       "</div>"
      ],
      "text/plain": [
       "   Shipper_Key Shipper_ID        Shipper_Name Current_Shipper_Phone  Previous_Shipper_Phone Effective_Date Current_Row_Ind\n",
       "0            1   ERLJ-101      Speedy Express        (503) 555-9831  Previous Phone Unknown     10/31/2014               Y\n",
       "1            2   ERLJ-102      United Package        (503) 555-8712  Previous Phone Unknown     10/31/2014               Y\n",
       "2            3   ERLJ-103    Federal Shipping        (503) 555-9931  Previous Phone Unknown     10/31/2014               Y\n",
       "3            5   ERLJ-105       Pacia Estates        (503) 555-5564  Previous Phone Unknown     10/31/2014               Y\n",
       "4            6   ERLJ-106  We Like to Move it        (503) 555-1234  Previous Phone Unknown     10/31/2014               Y\n",
       "5            7   ERLJ-107     Transpo Updates        (503) 555-6520  Previous Phone Unknown     10/31/2014               Y\n",
       "6            8   ERLJ-108       Log Logistics        (503) 555-2374  Previous_Shipper_Phone     2022-11-04               Y\n",
       "7            9   ERLJ-109   Fast and the Slow        (503) 555-7712  Previous_Shipper_Phone     2022-11-04               Y\n",
       "8           10   ERLJ-110     Tangera Express        (503) 555-3344  Previous_Shipper_Phone     2022-11-04               Y\n",
       "9           11   ERLJ-112      IDLF Lofistics  Unknown Phone Number  Previous_Shipper_Phone     2022-11-04               Y"
      ]
     },
     "execution_count": 109,
     "metadata": {},
     "output_type": "execute_result"
    }
   ],
   "source": [
    "pd.read_sql('Select * from D_Shipper', dwconn)"
   ]
  },
  {
   "cell_type": "code",
   "execution_count": 110,
   "id": "c8221c7e",
   "metadata": {},
   "outputs": [
    {
     "data": {
      "text/html": [
       "<div>\n",
       "<style scoped>\n",
       "    .dataframe tbody tr th:only-of-type {\n",
       "        vertical-align: middle;\n",
       "    }\n",
       "\n",
       "    .dataframe tbody tr th {\n",
       "        vertical-align: top;\n",
       "    }\n",
       "\n",
       "    .dataframe thead th {\n",
       "        text-align: right;\n",
       "    }\n",
       "</style>\n",
       "<table border=\"1\" class=\"dataframe\">\n",
       "  <thead>\n",
       "    <tr style=\"text-align: right;\">\n",
       "      <th></th>\n",
       "      <th>Shipper_Key</th>\n",
       "      <th>Shipper_ID</th>\n",
       "      <th>Shipper_Name</th>\n",
       "      <th>Current_Shipper_Phone</th>\n",
       "      <th>Previous_Shipper_Phone</th>\n",
       "      <th>Effective_Date</th>\n",
       "      <th>Current_Row_Ind</th>\n",
       "    </tr>\n",
       "  </thead>\n",
       "  <tbody>\n",
       "    <tr>\n",
       "      <th>0</th>\n",
       "      <td>1</td>\n",
       "      <td>ERLJ-101</td>\n",
       "      <td>Speedy Express</td>\n",
       "      <td>(503) 555-9831</td>\n",
       "      <td>Previous Phone Unknown</td>\n",
       "      <td>10/31/2014</td>\n",
       "      <td>Y</td>\n",
       "    </tr>\n",
       "    <tr>\n",
       "      <th>1</th>\n",
       "      <td>2</td>\n",
       "      <td>ERLJ-102</td>\n",
       "      <td>United Package</td>\n",
       "      <td>(503) 555-8712</td>\n",
       "      <td>Previous Phone Unknown</td>\n",
       "      <td>10/31/2014</td>\n",
       "      <td>Y</td>\n",
       "    </tr>\n",
       "    <tr>\n",
       "      <th>2</th>\n",
       "      <td>3</td>\n",
       "      <td>ERLJ-103</td>\n",
       "      <td>Federal Shipping</td>\n",
       "      <td>(503) 555-9931</td>\n",
       "      <td>Previous Phone Unknown</td>\n",
       "      <td>10/31/2014</td>\n",
       "      <td>Y</td>\n",
       "    </tr>\n",
       "    <tr>\n",
       "      <th>3</th>\n",
       "      <td>4</td>\n",
       "      <td>ERLJ-104</td>\n",
       "      <td>Lazaro Bulk Corporation</td>\n",
       "      <td>(503) 555-2399</td>\n",
       "      <td>(503) 555-2388</td>\n",
       "      <td>2022-11-04</td>\n",
       "      <td>None</td>\n",
       "    </tr>\n",
       "    <tr>\n",
       "      <th>4</th>\n",
       "      <td>5</td>\n",
       "      <td>ERLJ-105</td>\n",
       "      <td>Pacia Estates</td>\n",
       "      <td>(503) 555-5564</td>\n",
       "      <td>Previous Phone Unknown</td>\n",
       "      <td>10/31/2014</td>\n",
       "      <td>Y</td>\n",
       "    </tr>\n",
       "    <tr>\n",
       "      <th>5</th>\n",
       "      <td>6</td>\n",
       "      <td>ERLJ-106</td>\n",
       "      <td>We Like to Move it</td>\n",
       "      <td>(503) 555-1234</td>\n",
       "      <td>Previous Phone Unknown</td>\n",
       "      <td>10/31/2014</td>\n",
       "      <td>Y</td>\n",
       "    </tr>\n",
       "    <tr>\n",
       "      <th>6</th>\n",
       "      <td>7</td>\n",
       "      <td>ERLJ-107</td>\n",
       "      <td>Transpo Updates</td>\n",
       "      <td>(503) 555-6520</td>\n",
       "      <td>Previous Phone Unknown</td>\n",
       "      <td>10/31/2014</td>\n",
       "      <td>Y</td>\n",
       "    </tr>\n",
       "    <tr>\n",
       "      <th>7</th>\n",
       "      <td>8</td>\n",
       "      <td>ERLJ-108</td>\n",
       "      <td>Log Logistics</td>\n",
       "      <td>(503) 555-2374</td>\n",
       "      <td>Previous_Shipper_Phone</td>\n",
       "      <td>2022-11-04</td>\n",
       "      <td>Y</td>\n",
       "    </tr>\n",
       "    <tr>\n",
       "      <th>8</th>\n",
       "      <td>9</td>\n",
       "      <td>ERLJ-109</td>\n",
       "      <td>Fast and the Slow</td>\n",
       "      <td>(503) 555-7712</td>\n",
       "      <td>Previous_Shipper_Phone</td>\n",
       "      <td>2022-11-04</td>\n",
       "      <td>Y</td>\n",
       "    </tr>\n",
       "    <tr>\n",
       "      <th>9</th>\n",
       "      <td>10</td>\n",
       "      <td>ERLJ-110</td>\n",
       "      <td>Tangera Express</td>\n",
       "      <td>(503) 555-3344</td>\n",
       "      <td>Previous_Shipper_Phone</td>\n",
       "      <td>2022-11-04</td>\n",
       "      <td>Y</td>\n",
       "    </tr>\n",
       "    <tr>\n",
       "      <th>10</th>\n",
       "      <td>11</td>\n",
       "      <td>ERLJ-112</td>\n",
       "      <td>IDLF Lofistics</td>\n",
       "      <td>Unknown Phone Number</td>\n",
       "      <td>Previous_Shipper_Phone</td>\n",
       "      <td>2022-11-04</td>\n",
       "      <td>Y</td>\n",
       "    </tr>\n",
       "  </tbody>\n",
       "</table>\n",
       "</div>"
      ],
      "text/plain": [
       "    Shipper_Key Shipper_ID             Shipper_Name Current_Shipper_Phone  Previous_Shipper_Phone Effective_Date Current_Row_Ind\n",
       "0             1   ERLJ-101           Speedy Express        (503) 555-9831  Previous Phone Unknown     10/31/2014               Y\n",
       "1             2   ERLJ-102           United Package        (503) 555-8712  Previous Phone Unknown     10/31/2014               Y\n",
       "2             3   ERLJ-103         Federal Shipping        (503) 555-9931  Previous Phone Unknown     10/31/2014               Y\n",
       "3             4   ERLJ-104  Lazaro Bulk Corporation        (503) 555-2399          (503) 555-2388     2022-11-04            None\n",
       "4             5   ERLJ-105            Pacia Estates        (503) 555-5564  Previous Phone Unknown     10/31/2014               Y\n",
       "5             6   ERLJ-106       We Like to Move it        (503) 555-1234  Previous Phone Unknown     10/31/2014               Y\n",
       "6             7   ERLJ-107          Transpo Updates        (503) 555-6520  Previous Phone Unknown     10/31/2014               Y\n",
       "7             8   ERLJ-108            Log Logistics        (503) 555-2374  Previous_Shipper_Phone     2022-11-04               Y\n",
       "8             9   ERLJ-109        Fast and the Slow        (503) 555-7712  Previous_Shipper_Phone     2022-11-04               Y\n",
       "9            10   ERLJ-110          Tangera Express        (503) 555-3344  Previous_Shipper_Phone     2022-11-04               Y\n",
       "10           11   ERLJ-112           IDLF Lofistics  Unknown Phone Number  Previous_Shipper_Phone     2022-11-04               Y"
      ]
     },
     "execution_count": 110,
     "metadata": {},
     "output_type": "execute_result"
    }
   ],
   "source": [
    "cols = \"','\".join([str(i) for i in u_table_type3_data_df.columns.tolist()])\n",
    "\n",
    "for i, row in u_table_type3_data_df.iterrows():\n",
    "    sql = \"Insert into D_Shipper ('\"+cols +\"') values (\" + \"'%s',\"*(len(row)-1) + \"'%s\" + \"')\"\n",
    "    a_string = sql %tuple(row) if value is None else value\n",
    "    c.execute(a_string)\n",
    "    dwconn.commit()\n",
    "pd.read_sql('''Select * from D_Shipper''', dwconn)"
   ]
  },
  {
   "cell_type": "code",
   "execution_count": 111,
   "id": "5fd4f965",
   "metadata": {},
   "outputs": [
    {
     "data": {
      "text/html": [
       "<div>\n",
       "<style scoped>\n",
       "    .dataframe tbody tr th:only-of-type {\n",
       "        vertical-align: middle;\n",
       "    }\n",
       "\n",
       "    .dataframe tbody tr th {\n",
       "        vertical-align: top;\n",
       "    }\n",
       "\n",
       "    .dataframe thead th {\n",
       "        text-align: right;\n",
       "    }\n",
       "</style>\n",
       "<table border=\"1\" class=\"dataframe\">\n",
       "  <thead>\n",
       "    <tr style=\"text-align: right;\">\n",
       "      <th></th>\n",
       "      <th>MAX</th>\n",
       "    </tr>\n",
       "  </thead>\n",
       "  <tbody>\n",
       "    <tr>\n",
       "      <th>0</th>\n",
       "      <td>11</td>\n",
       "    </tr>\n",
       "  </tbody>\n",
       "</table>\n",
       "</div>"
      ],
      "text/plain": [
       "   MAX\n",
       "0   11"
      ]
     },
     "execution_count": 111,
     "metadata": {},
     "output_type": "execute_result"
    }
   ],
   "source": [
    "maxkey = pd.read_sql('''Select Max(Shipper_Key) as MAX from D_Shipper''', dwconn)\n",
    "maxkey"
   ]
  },
  {
   "cell_type": "code",
   "execution_count": 112,
   "id": "4bdcf583",
   "metadata": {},
   "outputs": [
    {
     "data": {
      "text/html": [
       "<div>\n",
       "<style scoped>\n",
       "    .dataframe tbody tr th:only-of-type {\n",
       "        vertical-align: middle;\n",
       "    }\n",
       "\n",
       "    .dataframe tbody tr th {\n",
       "        vertical-align: top;\n",
       "    }\n",
       "\n",
       "    .dataframe thead th {\n",
       "        text-align: right;\n",
       "    }\n",
       "</style>\n",
       "<table border=\"1\" class=\"dataframe\">\n",
       "  <thead>\n",
       "    <tr style=\"text-align: right;\">\n",
       "      <th></th>\n",
       "      <th>Shipper_ID</th>\n",
       "      <th>Shipper_Name</th>\n",
       "      <th>Current_Shipper_Phone</th>\n",
       "      <th>Previous_Shipper_Phone</th>\n",
       "      <th>Effective_Date</th>\n",
       "      <th>Current_Row_Ind</th>\n",
       "    </tr>\n",
       "  </thead>\n",
       "  <tbody>\n",
       "    <tr>\n",
       "      <th>0</th>\n",
       "      <td>ERLJ-101</td>\n",
       "      <td>Speedy International</td>\n",
       "      <td>(503) 555-9831</td>\n",
       "      <td>Previous_Shipper_Phone</td>\n",
       "      <td>2022-11-04</td>\n",
       "      <td>None</td>\n",
       "    </tr>\n",
       "  </tbody>\n",
       "</table>\n",
       "</div>"
      ],
      "text/plain": [
       "  Shipper_ID          Shipper_Name Current_Shipper_Phone  Previous_Shipper_Phone Effective_Date Current_Row_Ind\n",
       "0   ERLJ-101  Speedy International        (503) 555-9831  Previous_Shipper_Phone     2022-11-04            None"
      ]
     },
     "execution_count": 112,
     "metadata": {},
     "output_type": "execute_result"
    }
   ],
   "source": [
    "u_table_type2_data_df = pd.read_sql('''Select u.* from U_Shipper u inner join D_Shipper d on u.Shipper_ID = d.Shipper_ID where not (u.Shipper_Name = d.Shipper_Name) and d.Current_Row_Ind in ('Y')''', dwconn)\n",
    "u_table_type2_data_df"
   ]
  },
  {
   "cell_type": "code",
   "execution_count": 114,
   "id": "b40d5db3",
   "metadata": {},
   "outputs": [
    {
     "data": {
      "text/html": [
       "<div>\n",
       "<style scoped>\n",
       "    .dataframe tbody tr th:only-of-type {\n",
       "        vertical-align: middle;\n",
       "    }\n",
       "\n",
       "    .dataframe tbody tr th {\n",
       "        vertical-align: top;\n",
       "    }\n",
       "\n",
       "    .dataframe thead th {\n",
       "        text-align: right;\n",
       "    }\n",
       "</style>\n",
       "<table border=\"1\" class=\"dataframe\">\n",
       "  <thead>\n",
       "    <tr style=\"text-align: right;\">\n",
       "      <th></th>\n",
       "      <th>Shipper_ID</th>\n",
       "      <th>Shipper_Name</th>\n",
       "      <th>Current_Shipper_Phone</th>\n",
       "      <th>Previous_Shipper_Phone</th>\n",
       "      <th>Effective_Date</th>\n",
       "      <th>Current_Row_Ind</th>\n",
       "      <th>Shipper_Key</th>\n",
       "    </tr>\n",
       "  </thead>\n",
       "  <tbody>\n",
       "    <tr>\n",
       "      <th>0</th>\n",
       "      <td>ERLJ-101</td>\n",
       "      <td>Speedy International</td>\n",
       "      <td>(503) 555-9831</td>\n",
       "      <td>Previous_Shipper_Phone</td>\n",
       "      <td>2022-11-04</td>\n",
       "      <td>None</td>\n",
       "      <td>12</td>\n",
       "    </tr>\n",
       "  </tbody>\n",
       "</table>\n",
       "</div>"
      ],
      "text/plain": [
       "  Shipper_ID          Shipper_Name Current_Shipper_Phone  Previous_Shipper_Phone Effective_Date Current_Row_Ind  Shipper_Key\n",
       "0   ERLJ-101  Speedy International        (503) 555-9831  Previous_Shipper_Phone     2022-11-04            None           12"
      ]
     },
     "execution_count": 114,
     "metadata": {},
     "output_type": "execute_result"
    }
   ],
   "source": [
    "u_table_type2_data_df['Shipper_Key'] = np.arange(pd.to_numeric(maxkey.iloc[0]).values+1, (pd.to_numeric(maxkey.iloc[0].values)+len(u_table_type2_data_df)+1))\n",
    "u_table_type2_data_df"
   ]
  },
  {
   "cell_type": "code",
   "execution_count": 115,
   "id": "9144533c",
   "metadata": {},
   "outputs": [
    {
     "data": {
      "text/html": [
       "<div>\n",
       "<style scoped>\n",
       "    .dataframe tbody tr th:only-of-type {\n",
       "        vertical-align: middle;\n",
       "    }\n",
       "\n",
       "    .dataframe tbody tr th {\n",
       "        vertical-align: top;\n",
       "    }\n",
       "\n",
       "    .dataframe thead th {\n",
       "        text-align: right;\n",
       "    }\n",
       "</style>\n",
       "<table border=\"1\" class=\"dataframe\">\n",
       "  <thead>\n",
       "    <tr style=\"text-align: right;\">\n",
       "      <th></th>\n",
       "      <th>Shipper_Key</th>\n",
       "      <th>Shipper_ID</th>\n",
       "      <th>Shipper_Name</th>\n",
       "      <th>Current_Shipper_Phone</th>\n",
       "      <th>Previous_Shipper_Phone</th>\n",
       "      <th>Effective_Date</th>\n",
       "      <th>Current_Row_Ind</th>\n",
       "    </tr>\n",
       "  </thead>\n",
       "  <tbody>\n",
       "    <tr>\n",
       "      <th>0</th>\n",
       "      <td>12</td>\n",
       "      <td>ERLJ-101</td>\n",
       "      <td>Speedy International</td>\n",
       "      <td>(503) 555-9831</td>\n",
       "      <td>Previous_Shipper_Phone</td>\n",
       "      <td>2022-11-04</td>\n",
       "      <td>None</td>\n",
       "    </tr>\n",
       "  </tbody>\n",
       "</table>\n",
       "</div>"
      ],
      "text/plain": [
       "   Shipper_Key Shipper_ID          Shipper_Name Current_Shipper_Phone  Previous_Shipper_Phone Effective_Date Current_Row_Ind\n",
       "0           12   ERLJ-101  Speedy International        (503) 555-9831  Previous_Shipper_Phone     2022-11-04            None"
      ]
     },
     "execution_count": 115,
     "metadata": {},
     "output_type": "execute_result"
    }
   ],
   "source": [
    "u_table_type2_data_df = u_table_type2_data_df[['Shipper_Key','Shipper_ID','Shipper_Name','Current_Shipper_Phone','Previous_Shipper_Phone','Effective_Date','Current_Row_Ind']]\n",
    "u_table_type2_data_df"
   ]
  },
  {
   "cell_type": "code",
   "execution_count": 116,
   "id": "e613ba0b",
   "metadata": {},
   "outputs": [
    {
     "data": {
      "text/html": [
       "<div>\n",
       "<style scoped>\n",
       "    .dataframe tbody tr th:only-of-type {\n",
       "        vertical-align: middle;\n",
       "    }\n",
       "\n",
       "    .dataframe tbody tr th {\n",
       "        vertical-align: top;\n",
       "    }\n",
       "\n",
       "    .dataframe thead th {\n",
       "        text-align: right;\n",
       "    }\n",
       "</style>\n",
       "<table border=\"1\" class=\"dataframe\">\n",
       "  <thead>\n",
       "    <tr style=\"text-align: right;\">\n",
       "      <th></th>\n",
       "      <th>Shipper_Key</th>\n",
       "      <th>Shipper_ID</th>\n",
       "      <th>Shipper_Name</th>\n",
       "      <th>Current_Shipper_Phone</th>\n",
       "      <th>Previous_Shipper_Phone</th>\n",
       "      <th>Effective_Date</th>\n",
       "      <th>Current_Row_Ind</th>\n",
       "    </tr>\n",
       "  </thead>\n",
       "  <tbody>\n",
       "    <tr>\n",
       "      <th>0</th>\n",
       "      <td>1</td>\n",
       "      <td>ERLJ-101</td>\n",
       "      <td>Speedy Express</td>\n",
       "      <td>(503) 555-9831</td>\n",
       "      <td>Previous Phone Unknown</td>\n",
       "      <td>10/31/2014</td>\n",
       "      <td>Y</td>\n",
       "    </tr>\n",
       "    <tr>\n",
       "      <th>1</th>\n",
       "      <td>2</td>\n",
       "      <td>ERLJ-102</td>\n",
       "      <td>United Package</td>\n",
       "      <td>(503) 555-8712</td>\n",
       "      <td>Previous Phone Unknown</td>\n",
       "      <td>10/31/2014</td>\n",
       "      <td>Y</td>\n",
       "    </tr>\n",
       "    <tr>\n",
       "      <th>2</th>\n",
       "      <td>3</td>\n",
       "      <td>ERLJ-103</td>\n",
       "      <td>Federal Shipping</td>\n",
       "      <td>(503) 555-9931</td>\n",
       "      <td>Previous Phone Unknown</td>\n",
       "      <td>10/31/2014</td>\n",
       "      <td>Y</td>\n",
       "    </tr>\n",
       "    <tr>\n",
       "      <th>3</th>\n",
       "      <td>4</td>\n",
       "      <td>ERLJ-104</td>\n",
       "      <td>Lazaro Bulk Corporation</td>\n",
       "      <td>(503) 555-2399</td>\n",
       "      <td>(503) 555-2388</td>\n",
       "      <td>2022-11-04</td>\n",
       "      <td>None</td>\n",
       "    </tr>\n",
       "    <tr>\n",
       "      <th>4</th>\n",
       "      <td>5</td>\n",
       "      <td>ERLJ-105</td>\n",
       "      <td>Pacia Estates</td>\n",
       "      <td>(503) 555-5564</td>\n",
       "      <td>Previous Phone Unknown</td>\n",
       "      <td>10/31/2014</td>\n",
       "      <td>Y</td>\n",
       "    </tr>\n",
       "    <tr>\n",
       "      <th>5</th>\n",
       "      <td>6</td>\n",
       "      <td>ERLJ-106</td>\n",
       "      <td>We Like to Move it</td>\n",
       "      <td>(503) 555-1234</td>\n",
       "      <td>Previous Phone Unknown</td>\n",
       "      <td>10/31/2014</td>\n",
       "      <td>Y</td>\n",
       "    </tr>\n",
       "    <tr>\n",
       "      <th>6</th>\n",
       "      <td>7</td>\n",
       "      <td>ERLJ-107</td>\n",
       "      <td>Transpo Updates</td>\n",
       "      <td>(503) 555-6520</td>\n",
       "      <td>Previous Phone Unknown</td>\n",
       "      <td>10/31/2014</td>\n",
       "      <td>Y</td>\n",
       "    </tr>\n",
       "    <tr>\n",
       "      <th>7</th>\n",
       "      <td>8</td>\n",
       "      <td>ERLJ-108</td>\n",
       "      <td>Log Logistics</td>\n",
       "      <td>(503) 555-2374</td>\n",
       "      <td>Previous_Shipper_Phone</td>\n",
       "      <td>2022-11-04</td>\n",
       "      <td>Y</td>\n",
       "    </tr>\n",
       "    <tr>\n",
       "      <th>8</th>\n",
       "      <td>9</td>\n",
       "      <td>ERLJ-109</td>\n",
       "      <td>Fast and the Slow</td>\n",
       "      <td>(503) 555-7712</td>\n",
       "      <td>Previous_Shipper_Phone</td>\n",
       "      <td>2022-11-04</td>\n",
       "      <td>Y</td>\n",
       "    </tr>\n",
       "    <tr>\n",
       "      <th>9</th>\n",
       "      <td>10</td>\n",
       "      <td>ERLJ-110</td>\n",
       "      <td>Tangera Express</td>\n",
       "      <td>(503) 555-3344</td>\n",
       "      <td>Previous_Shipper_Phone</td>\n",
       "      <td>2022-11-04</td>\n",
       "      <td>Y</td>\n",
       "    </tr>\n",
       "    <tr>\n",
       "      <th>10</th>\n",
       "      <td>11</td>\n",
       "      <td>ERLJ-112</td>\n",
       "      <td>IDLF Lofistics</td>\n",
       "      <td>Unknown Phone Number</td>\n",
       "      <td>Previous_Shipper_Phone</td>\n",
       "      <td>2022-11-04</td>\n",
       "      <td>Y</td>\n",
       "    </tr>\n",
       "    <tr>\n",
       "      <th>11</th>\n",
       "      <td>12</td>\n",
       "      <td>ERLJ-101</td>\n",
       "      <td>Speedy International</td>\n",
       "      <td>(503) 555-9831</td>\n",
       "      <td>Previous_Shipper_Phone</td>\n",
       "      <td>2022-11-04</td>\n",
       "      <td>None</td>\n",
       "    </tr>\n",
       "  </tbody>\n",
       "</table>\n",
       "</div>"
      ],
      "text/plain": [
       "    Shipper_Key Shipper_ID             Shipper_Name Current_Shipper_Phone  Previous_Shipper_Phone Effective_Date Current_Row_Ind\n",
       "0             1   ERLJ-101           Speedy Express        (503) 555-9831  Previous Phone Unknown     10/31/2014               Y\n",
       "1             2   ERLJ-102           United Package        (503) 555-8712  Previous Phone Unknown     10/31/2014               Y\n",
       "2             3   ERLJ-103         Federal Shipping        (503) 555-9931  Previous Phone Unknown     10/31/2014               Y\n",
       "3             4   ERLJ-104  Lazaro Bulk Corporation        (503) 555-2399          (503) 555-2388     2022-11-04            None\n",
       "4             5   ERLJ-105            Pacia Estates        (503) 555-5564  Previous Phone Unknown     10/31/2014               Y\n",
       "5             6   ERLJ-106       We Like to Move it        (503) 555-1234  Previous Phone Unknown     10/31/2014               Y\n",
       "6             7   ERLJ-107          Transpo Updates        (503) 555-6520  Previous Phone Unknown     10/31/2014               Y\n",
       "7             8   ERLJ-108            Log Logistics        (503) 555-2374  Previous_Shipper_Phone     2022-11-04               Y\n",
       "8             9   ERLJ-109        Fast and the Slow        (503) 555-7712  Previous_Shipper_Phone     2022-11-04               Y\n",
       "9            10   ERLJ-110          Tangera Express        (503) 555-3344  Previous_Shipper_Phone     2022-11-04               Y\n",
       "10           11   ERLJ-112           IDLF Lofistics  Unknown Phone Number  Previous_Shipper_Phone     2022-11-04               Y\n",
       "11           12   ERLJ-101     Speedy International        (503) 555-9831  Previous_Shipper_Phone     2022-11-04            None"
      ]
     },
     "execution_count": 116,
     "metadata": {},
     "output_type": "execute_result"
    }
   ],
   "source": [
    "cols = \"','\".join([str(i) for i in u_table_type2_data_df.columns.tolist()])\n",
    "\n",
    "for i, row in u_table_type2_data_df.iterrows():\n",
    "    sql = \"Insert into D_Shipper ('\"+cols +\"') values (\" + \"'%s',\"*(len(row)-1) + \"'%s\" + \"')\"\n",
    "    a_string = sql %tuple(row) if value is None else value\n",
    "    c.execute(a_string)\n",
    "    dwconn.commit()\n",
    "pd.read_sql('''Select * from D_Shipper''', dwconn)"
   ]
  },
  {
   "cell_type": "code",
   "execution_count": 119,
   "id": "fe8414cf",
   "metadata": {},
   "outputs": [
    {
     "data": {
      "text/html": [
       "<div>\n",
       "<style scoped>\n",
       "    .dataframe tbody tr th:only-of-type {\n",
       "        vertical-align: middle;\n",
       "    }\n",
       "\n",
       "    .dataframe tbody tr th {\n",
       "        vertical-align: top;\n",
       "    }\n",
       "\n",
       "    .dataframe thead th {\n",
       "        text-align: right;\n",
       "    }\n",
       "</style>\n",
       "<table border=\"1\" class=\"dataframe\">\n",
       "  <thead>\n",
       "    <tr style=\"text-align: right;\">\n",
       "      <th></th>\n",
       "      <th>Shipper_Key</th>\n",
       "      <th>Shipper_ID</th>\n",
       "      <th>Shipper_Name</th>\n",
       "      <th>Current_Shipper_Phone</th>\n",
       "      <th>Previous_Shipper_Phone</th>\n",
       "      <th>Effective_Date</th>\n",
       "      <th>Current_Row_Ind</th>\n",
       "    </tr>\n",
       "  </thead>\n",
       "  <tbody>\n",
       "    <tr>\n",
       "      <th>0</th>\n",
       "      <td>1</td>\n",
       "      <td>ERLJ-101</td>\n",
       "      <td>Speedy Express</td>\n",
       "      <td>(503) 555-9831</td>\n",
       "      <td>Previous Phone Unknown</td>\n",
       "      <td>10/31/2014</td>\n",
       "      <td>N</td>\n",
       "    </tr>\n",
       "  </tbody>\n",
       "</table>\n",
       "</div>"
      ],
      "text/plain": [
       "   Shipper_Key Shipper_ID    Shipper_Name Current_Shipper_Phone  Previous_Shipper_Phone Effective_Date Current_Row_Ind\n",
       "0            1   ERLJ-101  Speedy Express        (503) 555-9831  Previous Phone Unknown     10/31/2014               N"
      ]
     },
     "execution_count": 119,
     "metadata": {},
     "output_type": "execute_result"
    }
   ],
   "source": [
    "for_update_data_df = pd.read_sql('''Select d.* from U_Shipper u inner join D_Shipper d on u.Shipper_ID = d.Shipper_ID where d.Current_Row_Ind = 'Y' and not u.Shipper_Name = d.Shipper_Name''', dwconn)\n",
    "for_update_data_df['Current_Row_Ind'] = 'N'\n",
    "for_update_data_df"
   ]
  },
  {
   "cell_type": "code",
   "execution_count": 121,
   "id": "6f845fd1",
   "metadata": {},
   "outputs": [
    {
     "data": {
      "text/plain": [
       "<function Cursor.fetchall>"
      ]
     },
     "execution_count": 121,
     "metadata": {},
     "output_type": "execute_result"
    }
   ],
   "source": [
    "c.execute('''Delete from D_Shipper where Shipper_Key =1 ''')\n",
    "c.execute('Select * from D_Shipper')\n",
    "c.fetchall"
   ]
  },
  {
   "cell_type": "code",
   "execution_count": 122,
   "id": "acebb1b6",
   "metadata": {},
   "outputs": [
    {
     "data": {
      "text/html": [
       "<div>\n",
       "<style scoped>\n",
       "    .dataframe tbody tr th:only-of-type {\n",
       "        vertical-align: middle;\n",
       "    }\n",
       "\n",
       "    .dataframe tbody tr th {\n",
       "        vertical-align: top;\n",
       "    }\n",
       "\n",
       "    .dataframe thead th {\n",
       "        text-align: right;\n",
       "    }\n",
       "</style>\n",
       "<table border=\"1\" class=\"dataframe\">\n",
       "  <thead>\n",
       "    <tr style=\"text-align: right;\">\n",
       "      <th></th>\n",
       "      <th>Shipper_Key</th>\n",
       "      <th>Shipper_ID</th>\n",
       "      <th>Shipper_Name</th>\n",
       "      <th>Current_Shipper_Phone</th>\n",
       "      <th>Previous_Shipper_Phone</th>\n",
       "      <th>Effective_Date</th>\n",
       "      <th>Current_Row_Ind</th>\n",
       "    </tr>\n",
       "  </thead>\n",
       "  <tbody>\n",
       "    <tr>\n",
       "      <th>0</th>\n",
       "      <td>1</td>\n",
       "      <td>ERLJ-101</td>\n",
       "      <td>Speedy Express</td>\n",
       "      <td>(503) 555-9831</td>\n",
       "      <td>Previous Phone Unknown</td>\n",
       "      <td>10/31/2014</td>\n",
       "      <td>N</td>\n",
       "    </tr>\n",
       "    <tr>\n",
       "      <th>1</th>\n",
       "      <td>2</td>\n",
       "      <td>ERLJ-102</td>\n",
       "      <td>United Package</td>\n",
       "      <td>(503) 555-8712</td>\n",
       "      <td>Previous Phone Unknown</td>\n",
       "      <td>10/31/2014</td>\n",
       "      <td>Y</td>\n",
       "    </tr>\n",
       "    <tr>\n",
       "      <th>2</th>\n",
       "      <td>3</td>\n",
       "      <td>ERLJ-103</td>\n",
       "      <td>Federal Shipping</td>\n",
       "      <td>(503) 555-9931</td>\n",
       "      <td>Previous Phone Unknown</td>\n",
       "      <td>10/31/2014</td>\n",
       "      <td>Y</td>\n",
       "    </tr>\n",
       "    <tr>\n",
       "      <th>3</th>\n",
       "      <td>4</td>\n",
       "      <td>ERLJ-104</td>\n",
       "      <td>Lazaro Bulk Corporation</td>\n",
       "      <td>(503) 555-2399</td>\n",
       "      <td>(503) 555-2388</td>\n",
       "      <td>2022-11-04</td>\n",
       "      <td>None</td>\n",
       "    </tr>\n",
       "    <tr>\n",
       "      <th>4</th>\n",
       "      <td>5</td>\n",
       "      <td>ERLJ-105</td>\n",
       "      <td>Pacia Estates</td>\n",
       "      <td>(503) 555-5564</td>\n",
       "      <td>Previous Phone Unknown</td>\n",
       "      <td>10/31/2014</td>\n",
       "      <td>Y</td>\n",
       "    </tr>\n",
       "    <tr>\n",
       "      <th>5</th>\n",
       "      <td>6</td>\n",
       "      <td>ERLJ-106</td>\n",
       "      <td>We Like to Move it</td>\n",
       "      <td>(503) 555-1234</td>\n",
       "      <td>Previous Phone Unknown</td>\n",
       "      <td>10/31/2014</td>\n",
       "      <td>Y</td>\n",
       "    </tr>\n",
       "    <tr>\n",
       "      <th>6</th>\n",
       "      <td>7</td>\n",
       "      <td>ERLJ-107</td>\n",
       "      <td>Transpo Updates</td>\n",
       "      <td>(503) 555-6520</td>\n",
       "      <td>Previous Phone Unknown</td>\n",
       "      <td>10/31/2014</td>\n",
       "      <td>Y</td>\n",
       "    </tr>\n",
       "    <tr>\n",
       "      <th>7</th>\n",
       "      <td>8</td>\n",
       "      <td>ERLJ-108</td>\n",
       "      <td>Log Logistics</td>\n",
       "      <td>(503) 555-2374</td>\n",
       "      <td>Previous_Shipper_Phone</td>\n",
       "      <td>2022-11-04</td>\n",
       "      <td>Y</td>\n",
       "    </tr>\n",
       "    <tr>\n",
       "      <th>8</th>\n",
       "      <td>9</td>\n",
       "      <td>ERLJ-109</td>\n",
       "      <td>Fast and the Slow</td>\n",
       "      <td>(503) 555-7712</td>\n",
       "      <td>Previous_Shipper_Phone</td>\n",
       "      <td>2022-11-04</td>\n",
       "      <td>Y</td>\n",
       "    </tr>\n",
       "    <tr>\n",
       "      <th>9</th>\n",
       "      <td>10</td>\n",
       "      <td>ERLJ-110</td>\n",
       "      <td>Tangera Express</td>\n",
       "      <td>(503) 555-3344</td>\n",
       "      <td>Previous_Shipper_Phone</td>\n",
       "      <td>2022-11-04</td>\n",
       "      <td>Y</td>\n",
       "    </tr>\n",
       "    <tr>\n",
       "      <th>10</th>\n",
       "      <td>11</td>\n",
       "      <td>ERLJ-112</td>\n",
       "      <td>IDLF Lofistics</td>\n",
       "      <td>Unknown Phone Number</td>\n",
       "      <td>Previous_Shipper_Phone</td>\n",
       "      <td>2022-11-04</td>\n",
       "      <td>Y</td>\n",
       "    </tr>\n",
       "    <tr>\n",
       "      <th>11</th>\n",
       "      <td>12</td>\n",
       "      <td>ERLJ-101</td>\n",
       "      <td>Speedy International</td>\n",
       "      <td>(503) 555-9831</td>\n",
       "      <td>Previous_Shipper_Phone</td>\n",
       "      <td>2022-11-04</td>\n",
       "      <td>None</td>\n",
       "    </tr>\n",
       "  </tbody>\n",
       "</table>\n",
       "</div>"
      ],
      "text/plain": [
       "    Shipper_Key Shipper_ID             Shipper_Name Current_Shipper_Phone  Previous_Shipper_Phone Effective_Date Current_Row_Ind\n",
       "0             1   ERLJ-101           Speedy Express        (503) 555-9831  Previous Phone Unknown     10/31/2014               N\n",
       "1             2   ERLJ-102           United Package        (503) 555-8712  Previous Phone Unknown     10/31/2014               Y\n",
       "2             3   ERLJ-103         Federal Shipping        (503) 555-9931  Previous Phone Unknown     10/31/2014               Y\n",
       "3             4   ERLJ-104  Lazaro Bulk Corporation        (503) 555-2399          (503) 555-2388     2022-11-04            None\n",
       "4             5   ERLJ-105            Pacia Estates        (503) 555-5564  Previous Phone Unknown     10/31/2014               Y\n",
       "5             6   ERLJ-106       We Like to Move it        (503) 555-1234  Previous Phone Unknown     10/31/2014               Y\n",
       "6             7   ERLJ-107          Transpo Updates        (503) 555-6520  Previous Phone Unknown     10/31/2014               Y\n",
       "7             8   ERLJ-108            Log Logistics        (503) 555-2374  Previous_Shipper_Phone     2022-11-04               Y\n",
       "8             9   ERLJ-109        Fast and the Slow        (503) 555-7712  Previous_Shipper_Phone     2022-11-04               Y\n",
       "9            10   ERLJ-110          Tangera Express        (503) 555-3344  Previous_Shipper_Phone     2022-11-04               Y\n",
       "10           11   ERLJ-112           IDLF Lofistics  Unknown Phone Number  Previous_Shipper_Phone     2022-11-04               Y\n",
       "11           12   ERLJ-101     Speedy International        (503) 555-9831  Previous_Shipper_Phone     2022-11-04            None"
      ]
     },
     "execution_count": 122,
     "metadata": {},
     "output_type": "execute_result"
    }
   ],
   "source": [
    "cols = \"','\".join([str(i) for i in for_update_data_df.columns.tolist()])\n",
    "\n",
    "for i, row in for_update_data_df.iterrows():\n",
    "    sql = \"Insert into D_Shipper ('\"+cols +\"') values (\" + \"'%s',\"*(len(row)-1) + \"'%s\" + \"')\"\n",
    "    a_string = sql %tuple(row) if value is None else value\n",
    "    c.execute(a_string)\n",
    "    dwconn.commit()\n",
    "pd.read_sql('''Select * from D_Shipper''', dwconn)"
   ]
  },
  {
   "cell_type": "code",
   "execution_count": null,
   "id": "a9573e4e",
   "metadata": {},
   "outputs": [],
   "source": []
  }
 ],
 "metadata": {
  "kernelspec": {
   "display_name": "Python 3 (ipykernel)",
   "language": "python",
   "name": "python3"
  },
  "language_info": {
   "codemirror_mode": {
    "name": "ipython",
    "version": 3
   },
   "file_extension": ".py",
   "mimetype": "text/x-python",
   "name": "python",
   "nbconvert_exporter": "python",
   "pygments_lexer": "ipython3",
   "version": "3.9.12"
  }
 },
 "nbformat": 4,
 "nbformat_minor": 5
}
